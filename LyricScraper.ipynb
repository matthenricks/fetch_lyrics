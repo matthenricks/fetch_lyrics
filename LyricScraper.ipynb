{
 "metadata": {
  "name": "",
  "signature": "sha256:8d2ee1587dd8e9cff61ba23d936f3bb77579230b958e877cf122f540ff8fc0dc"
 },
 "nbformat": 3,
 "nbformat_minor": 0,
 "worksheets": [
  {
   "cells": [
    {
     "cell_type": "heading",
     "level": 1,
     "metadata": {},
     "source": [
      "Include all the imports"
     ]
    },
    {
     "cell_type": "code",
     "collapsed": false,
     "input": [
      "import numpy\n",
      "import pandas as pd\n",
      "import requests\n",
      "import time\n",
      "import json\n",
      "import csv\n",
      "import datetime\n",
      "import string \n",
      "import re\n",
      "import urllib2\n",
      "import pymongo\n",
      "from BeautifulSoup import BeautifulSoup"
     ],
     "language": "python",
     "metadata": {},
     "outputs": [],
     "prompt_number": 3
    },
    {
     "cell_type": "heading",
     "level": 1,
     "metadata": {},
     "source": [
      "Generate API Keys"
     ]
    },
    {
     "cell_type": "code",
     "collapsed": false,
     "input": [
      "badURL = []\n",
      "apikeys = []\n",
      "\n",
      "for ind in range(1,100):\n",
      "    uri = \"http://www.lyricsnmusic.com/api_keys/\"+str(ind+1000)\n",
      "    r = requests.get(uri)\n",
      "    if (r.status_code == 200):\n",
      "        soup = BeautifulSoup(r.text)\n",
      "        node = soup.find('div', attrs={'class':'grid_6 push_1'})\n",
      "        node = node.find('p').text\n",
      "        apikeys += [str.strip(str(node[15:]))]\n",
      "    else:\n",
      "        badURL += [uri]\n",
      "    time.sleep(0.5)\n",
      "\n",
      "print \"\\nRESULTS\"\n",
      "print \"apikeys\", len(apikeys)\n",
      "print \"badURL\", len(badURL)\n",
      "\n",
      "with open('apikeys.txt', 'a') as keyFile:\n",
      "    for key in apikeys:\n",
      "        keyFile.write(key)\n",
      "        keyFile.write(\"\\n\")"
     ],
     "language": "python",
     "metadata": {},
     "outputs": [
      {
       "output_type": "stream",
       "stream": "stdout",
       "text": [
        "\n",
        "RESULTS\n",
        "999\n",
        "0\n"
       ]
      }
     ],
     "prompt_number": 5
    },
    {
     "cell_type": "heading",
     "level": 1,
     "metadata": {},
     "source": [
      "Get API Key"
     ]
    },
    {
     "cell_type": "code",
     "collapsed": false,
     "input": [
      "apikeys = []\n",
      "\n",
      "with open('apikeys.txt', 'r') as keyFile:\n",
      "    st = keyFile.readline()\n",
      "    while st != \"\":\n",
      "        # Must remove the \\n\n",
      "        apikeys += [st[:-1]]\n",
      "        st = keyFile.readline()"
     ],
     "language": "python",
     "metadata": {},
     "outputs": [],
     "prompt_number": 4
    },
    {
     "cell_type": "code",
     "collapsed": false,
     "input": [
      "apikeys[:5]"
     ],
     "language": "python",
     "metadata": {},
     "outputs": [
      {
       "metadata": {},
       "output_type": "pyout",
       "prompt_number": 5,
       "text": [
        "['dfb96160456ad89c4130604490c8bb',\n",
        " 'b32cd0948bbe026a5653d8cecdac01',\n",
        " 'b66374b7c6b7e194c59c1c44961499',\n",
        " 'dcb5459d5fb6c83af914b288651788',\n",
        " '412ed51c67c57de8e9054a32838933']"
       ]
      }
     ],
     "prompt_number": 5
    },
    {
     "cell_type": "heading",
     "level": 1,
     "metadata": {},
     "source": [
      "Song and LyricError Class"
     ]
    },
    {
     "cell_type": "code",
     "collapsed": false,
     "input": [
      "# Intialize DataFrames\n",
      "\n",
      "from json import JSONEncoder \n",
      "\n",
      "class Song:\n",
      "    def __init__(self, index, artist, track, url, lyrics):\n",
      "        self.index = index\n",
      "        self.artist = artist\n",
      "        self.track = track\n",
      "        self.url = url\n",
      "        self.lyrics = lyrics\n",
      "    \n",
      "    def __str__(self): \n",
      "        result = \"Artist: \" + self.artist\n",
      "        result += \", Track: \" + self.track \n",
      "        result += \", URL: \" + self.url\n",
      "        return result \n",
      "    \n",
      "    def __repr__(self): \n",
      "        return self.__str__()\n",
      "    \n",
      "    def jsonable(self):\n",
      "        return self.__dict__\n",
      "\n",
      "class LyricError: \n",
      "    def __init__(self, index, artist, track, errorType, errorMessage):\n",
      "        self.index = index\n",
      "        self.artist = artist\n",
      "        self.track = track\n",
      "        self.errorType = errorType\n",
      "        self.errorMessage = errorMessage\n",
      "        \n",
      "    def __str__(self):\n",
      "        result = \"Artist: \" + self.artist\n",
      "        result += \", Track: \" + self.track \n",
      "        result += \", ErrorType: \" + self.errorType\n",
      "        result += \", Msg: \" + self.errorMessage\n",
      "        return result \n",
      "    \n",
      "    def __repr__(self): \n",
      "        return self.__str__()\n",
      "    \n",
      "    def jsonable(self):\n",
      "        return self.__dict__\n",
      "    \n",
      "def ComplexHandler(Obj):\n",
      "    if hasattr(Obj, 'jsonable'):\n",
      "        return Obj.jsonable()\n",
      "    else:\n",
      "        raise TypeError, 'Object of type %s with value of %s is not JSON serializable' % (type(Obj), repr(Obj))"
     ],
     "language": "python",
     "metadata": {},
     "outputs": [],
     "prompt_number": 6
    },
    {
     "cell_type": "heading",
     "level": 1,
     "metadata": {},
     "source": [
      "MongoDB Lyrics Store"
     ]
    },
    {
     "cell_type": "code",
     "collapsed": false,
     "input": [
      "# Database: lyrics\n",
      "# Collection: songs\n",
      "# Collection: errors\n",
      "\n",
      "from pymongo import MongoClient \n",
      "client = MongoClient('localhost', 27017)\n",
      "db = client.lyrics\n",
      "top_songs = db.songs\n",
      "errors = db.errors"
     ],
     "language": "python",
     "metadata": {},
     "outputs": [],
     "prompt_number": 7
    },
    {
     "cell_type": "code",
     "collapsed": false,
     "input": [
      "# Intialize DataFrames\n",
      "\n",
      "from json import JSONEncoder \n",
      "\n",
      "class Song:\n",
      "    def __init__(self, index, artist, track, url, lyrics):\n",
      "        self.index = index\n",
      "        self.artist = artist\n",
      "        self.track = track\n",
      "        self.url = url\n",
      "        self.lyrics = lyrics\n",
      "    \n",
      "    def __str__(self): \n",
      "        result = \"Artist: \" + self.artist\n",
      "        result += \", Track: \" + self.track \n",
      "        result += \", URL: \" + self.url\n",
      "        return result \n",
      "    \n",
      "    def __repr__(self): \n",
      "        return self.__str__()\n",
      "    \n",
      "    def jsonable(self):\n",
      "        return self.__dict__\n",
      "\n",
      "class LyricError: \n",
      "    def __init__(self, index, artist, track, errorType, errorMessage):\n",
      "        self.index = index\n",
      "        self.artist = artist\n",
      "        self.track = track\n",
      "        self.errorType = errorType\n",
      "        self.errorMessage = errorMessage\n",
      "        \n",
      "    def __str__(self):\n",
      "        result = \"Artist: \" + self.artist\n",
      "        result += \", Track: \" + self.track \n",
      "        result += \", ErrorType: \" + self.errorType\n",
      "        result += \", Msg: \" + self.errorMessage\n",
      "        return result \n",
      "    \n",
      "    def __repr__(self): \n",
      "        return self.__str__()\n",
      "    \n",
      "    def jsonable(self):\n",
      "        return self.__dict__\n",
      "    \n",
      "def ComplexHandler(Obj):\n",
      "    if hasattr(Obj, 'jsonable'):\n",
      "        return Obj.jsonable()\n",
      "    else:\n",
      "        raise TypeError, 'Object of type %s with value of %s is not JSON serializable' % (type(Obj), repr(Obj))"
     ],
     "language": "python",
     "metadata": {},
     "outputs": [],
     "prompt_number": 8
    },
    {
     "cell_type": "code",
     "collapsed": false,
     "input": [
      "# lyrics&music API\n",
      "song_base = \"http://api.lyricsnmusic.com/songs?api_key=\"\n",
      "apikey = apikeys[28]\n",
      "\n",
      "def stripPuncEscape(input_string):\n",
      "    \"\"\" Removes all escape sequences, replaces \\r\\n with \" \", and removes punctuation \"\"\"\n",
      "    delete = \"\"\n",
      "    i=1\n",
      "    while (i<0x20):\n",
      "        delete += chr(i)\n",
      "        i += 1\n",
      "    t = input_string.replace(\"\\r\\n\", \" \")\n",
      "    # If need ASCII encoding\n",
      "    #t = re.sub(u\"(\\u2018|\\u2019)\", \"'\", t)\n",
      "    t = t.translate(None, string.punctuation)\n",
      "    t = t.translate(None, delete)\n",
      "    return t\n",
      "\n",
      "# Go with the first entry\n",
      "def findSongAPI(index, artist, track, apikey, mistake = 5):\n",
      "    artist = urllib2.quote(artist.encode(\"utf-8\"))\n",
      "    track = urllib2.quote(track.encode(\"utf-8\"))\n",
      "    song_url = song_base+apikey+\"&artist=\"+artist+\"&track=\"+track\n",
      "    try:\n",
      "        r = requests.get(song_url)\n",
      "    except ConnectionError as e:\n",
      "        if (mistake > 0):\n",
      "            return findSongAPI(index, artist, track, apikey, mistake - 1)\n",
      "        else:\n",
      "            return (None, None)\n",
      "        \n",
      "    lyric_url = None\n",
      "    lyrics = None\n",
      "\n",
      "    try: \n",
      "        lyric_url = r.json()[0]['url']\n",
      "        song = requests.get(lyric_url.encode())\n",
      "        soup = BeautifulSoup(song.text)\n",
      "        soup = soup.find('pre', attrs={'itemprop':'description'})\n",
      "        lyrics = soup.text.encode('utf-8')\n",
      "        lyrics = stripPuncEscape(lyrics)\n",
      "        return (lyric_url, lyrics)\n",
      "    except AttributeError as e:\n",
      "        curr_error = LyricError(index, artist, track, \"AttributeError\", str(e))\n",
      "        errors.insert(curr_error.__dict__)\n",
      "        return (None, None)\n",
      "    except ValueError as e:\n",
      "        curr_error = LyricError(index, artist, track, \"ValueError\", str(e))\n",
      "        errors.insert(curr_error.__dict__)\n",
      "        return (None, None)\n",
      "    except IndexError as e: \n",
      "        curr_error = LyricError(index, artist, track, \"IndexError\", str(e))\n",
      "        errors.insert(curr_error.__dict__)\n",
      "        return (None, None)\n",
      "    except ConnectionError as e: \n",
      "        curr_error = LyricError(index, artist, track, \"ConnectionError\", str(e))\n",
      "        errors.insert(curr_error.__dict__)\n",
      "        return (None, None)\n",
      "    except UnicodeDecodeError as e: \n",
      "        curr_error = LyricError(index, artist, track, \"UnicodeDecodeError\", str(e))\n",
      "        errors.insert(curr_error.__dict__)\n",
      "        return (None, None)\n",
      "    except UnboundLocalError as e: \n",
      "        curr_error = LyricError(index, artist, track, \"UnboundLocalError\", str(e))\n",
      "        errors.insert(curr_error.__dict__)\n",
      "        return (None, None)\n",
      "    except Exception as e: \n",
      "        curr_error = LyricError(index, artist, track, \"Exception\", str(e))\n",
      "        errors.insert(curr_error.__dict__)\n",
      "        return (None, None)"
     ],
     "language": "python",
     "metadata": {},
     "outputs": [],
     "prompt_number": 9
    },
    {
     "cell_type": "code",
     "collapsed": false,
     "input": [
      "#start = datetime.datetime.now()\n",
      "index = 0\n",
      "skip = 0\n",
      "\n",
      "with open('BillboardMusic.csv', 'rb') as csvfile:\n",
      "    reader = csv.DictReader(csvfile)\n",
      "    #print reader.fieldnames\n",
      "\n",
      "    keyCount = 1\n",
      "    keyIndex = 0\n",
      "    apikey = apikeys[keyIndex]\n",
      "            \n",
      "    for row in reader:\n",
      "        if index < skip: \n",
      "            index += 1\n",
      "        else: \n",
      "            artist = row['Artist']\n",
      "            track = row['Track']\n",
      "                        \n",
      "            url, lyrics = findSongAPI(index, artist, track, apikeys[keyIndex])\n",
      "            \n",
      "            if keyCount == 10:\n",
      "                keyCount = 1\n",
      "                apikey = apikeys[keyIndex]\n",
      "                if keyIndex + 1 == len(apikeys):\n",
      "                    keyIndex = 0\n",
      "                else:\n",
      "                    keyIndex += 1\n",
      "            else:\n",
      "                keyCount += 1\n",
      "\n",
      "            \n",
      "            artist = artist.replace(\",\", \"\")\n",
      "            track = track.replace(\",\", \"\")\n",
      "            curr_song = Song(index, artist, track, url, lyrics)\n",
      "            top_songs.insert(curr_song.__dict__)\n",
      "            print index # So that you know it's still working\n",
      "            index += 1\n",
      "            time.sleep(0.1)\n",
      "            # Debugger\n",
      "            if index > 5:\n",
      "                break"
     ],
     "language": "python",
     "metadata": {},
     "outputs": [
      {
       "output_type": "stream",
       "stream": "stdout",
       "text": [
        "0\n",
        "1"
       ]
      },
      {
       "output_type": "stream",
       "stream": "stdout",
       "text": [
        "\n",
        "2"
       ]
      },
      {
       "output_type": "stream",
       "stream": "stdout",
       "text": [
        "\n",
        "3"
       ]
      },
      {
       "output_type": "stream",
       "stream": "stdout",
       "text": [
        "\n",
        "4"
       ]
      },
      {
       "output_type": "stream",
       "stream": "stdout",
       "text": [
        "\n",
        "5"
       ]
      },
      {
       "output_type": "stream",
       "stream": "stdout",
       "text": [
        "\n"
       ]
      }
     ],
     "prompt_number": 11
    },
    {
     "cell_type": "code",
     "collapsed": false,
     "input": [],
     "language": "python",
     "metadata": {},
     "outputs": []
    }
   ],
   "metadata": {}
  }
 ]
}