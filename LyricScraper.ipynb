{
 "metadata": {
  "name": "",
  "signature": "sha256:4bdf57c2545ac9cf3c6d36f768225ea1a689525a4a2dd100c021e0e2911b970c"
 },
 "nbformat": 3,
 "nbformat_minor": 0,
 "worksheets": [
  {
   "cells": [
    {
     "cell_type": "heading",
     "level": 1,
     "metadata": {},
     "source": [
      "Include all the imports"
     ]
    },
    {
     "cell_type": "code",
     "collapsed": false,
     "input": [
      "import numpy\n",
      "import pandas as pd\n",
      "import requests\n",
      "import time\n",
      "import json\n",
      "import csv\n",
      "import datetime\n",
      "import string \n",
      "import re\n",
      "import urllib2\n",
      "import pymongo\n",
      "from BeautifulSoup import BeautifulSoup"
     ],
     "language": "python",
     "metadata": {},
     "outputs": [],
     "prompt_number": 1
    },
    {
     "cell_type": "heading",
     "level": 1,
     "metadata": {},
     "source": [
      "Generate API Keys"
     ]
    },
    {
     "cell_type": "code",
     "collapsed": false,
     "input": [
      "badURL = []\n",
      "apikeys = []\n",
      "\n",
      "for ind in range(1,100):\n",
      "    uri = \"http://www.lyricsnmusic.com/api_keys/\"+str(ind+1000)\n",
      "    r = requests.get(uri)\n",
      "    if (r.status_code == 200):\n",
      "        soup = BeautifulSoup(r.text)\n",
      "        node = soup.find('div', attrs={'class':'grid_6 push_1'})\n",
      "        node = node.find('p').text\n",
      "        apikeys += [str.strip(str(node[15:]))]\n",
      "    else:\n",
      "        badURL += [uri]\n",
      "    time.sleep(0.5)\n",
      "\n",
      "print \"\\nRESULTS\"\n",
      "print \"apikeys\", len(apikeys)\n",
      "print \"badURL\", len(badURL)\n",
      "\n",
      "with open('apikeys.txt', 'a') as keyFile:\n",
      "    for key in apikeys:\n",
      "        keyFile.write(key)\n",
      "        keyFile.write(\"\\n\")"
     ],
     "language": "python",
     "metadata": {},
     "outputs": [
      {
       "output_type": "stream",
       "stream": "stdout",
       "text": [
        "\n",
        "RESULTS\n",
        "999\n",
        "0\n"
       ]
      }
     ],
     "prompt_number": 5
    },
    {
     "cell_type": "heading",
     "level": 1,
     "metadata": {},
     "source": [
      "Get API Key"
     ]
    },
    {
     "cell_type": "code",
     "collapsed": false,
     "input": [
      "apikeys = []\n",
      "\n",
      "with open('apikeys.txt', 'r') as keyFile:\n",
      "    st = keyFile.readline()\n",
      "    while st != \"\":\n",
      "        # Must remove the \\n\n",
      "        apikeys += [st[:-1]]\n",
      "        st = keyFile.readline()"
     ],
     "language": "python",
     "metadata": {},
     "outputs": [],
     "prompt_number": 2
    },
    {
     "cell_type": "code",
     "collapsed": false,
     "input": [
      "apikeys[:5]"
     ],
     "language": "python",
     "metadata": {},
     "outputs": [
      {
       "metadata": {},
       "output_type": "pyout",
       "prompt_number": 3,
       "text": [
        "['dfb96160456ad89c4130604490c8bb',\n",
        " 'b32cd0948bbe026a5653d8cecdac01',\n",
        " 'b66374b7c6b7e194c59c1c44961499',\n",
        " 'dcb5459d5fb6c83af914b288651788',\n",
        " '412ed51c67c57de8e9054a32838933']"
       ]
      }
     ],
     "prompt_number": 3
    },
    {
     "cell_type": "heading",
     "level": 1,
     "metadata": {},
     "source": [
      "Song and LyricError Class"
     ]
    },
    {
     "cell_type": "code",
     "collapsed": false,
     "input": [
      "# Intialize DataFrames\n",
      "\n",
      "from json import JSONEncoder \n",
      "\n",
      "class Song:\n",
      "    def __init__(self, index, artist, track, url, lyrics):\n",
      "        self.index = index\n",
      "        self.artist = artist\n",
      "        self.track = track\n",
      "        self.url = url\n",
      "        self.lyrics = lyrics\n",
      "    \n",
      "    def __str__(self): \n",
      "        result = \"Artist: \" + self.artist\n",
      "        result += \", Track: \" + self.track \n",
      "        result += \", URL: \" + self.url\n",
      "        return result \n",
      "    \n",
      "    def __repr__(self): \n",
      "        return self.__str__()\n",
      "    \n",
      "    def jsonable(self):\n",
      "        return self.__dict__\n",
      "\n",
      "class LyricError: \n",
      "    def __init__(self, index, artist, track, errorType, errorMessage):\n",
      "        self.index = index\n",
      "        self.artist = artist\n",
      "        self.track = track\n",
      "        self.errorType = errorType\n",
      "        self.errorMessage = errorMessage\n",
      "        \n",
      "    def __str__(self):\n",
      "        result = \"Artist: \" + self.artist\n",
      "        result += \", Track: \" + self.track \n",
      "        result += \", ErrorType: \" + self.errorType\n",
      "        result += \", Msg: \" + self.errorMessage\n",
      "        return result \n",
      "    \n",
      "    def __repr__(self): \n",
      "        return self.__str__()\n",
      "    \n",
      "    def jsonable(self):\n",
      "        return self.__dict__\n",
      "    \n",
      "def ComplexHandler(Obj):\n",
      "    if hasattr(Obj, 'jsonable'):\n",
      "        return Obj.jsonable()\n",
      "    else:\n",
      "        raise TypeError, 'Object of type %s with value of %s is not JSON serializable' % (type(Obj), repr(Obj))"
     ],
     "language": "python",
     "metadata": {},
     "outputs": [],
     "prompt_number": 4
    },
    {
     "cell_type": "heading",
     "level": 1,
     "metadata": {},
     "source": [
      "MongoDB Lyrics Store"
     ]
    },
    {
     "cell_type": "code",
     "collapsed": false,
     "input": [
      "# Database: lyrics\n",
      "# Collection: songs\n",
      "# Collection: errors\n",
      "\n",
      "from pymongo import MongoClient \n",
      "client = MongoClient('localhost', 27017)\n",
      "db = client.lyrics\n",
      "top_songs = db.songs\n",
      "errors = db.errors"
     ],
     "language": "python",
     "metadata": {},
     "outputs": [],
     "prompt_number": 9
    },
    {
     "cell_type": "code",
     "collapsed": false,
     "input": [
      "# Intialize DataFrames\n",
      "\n",
      "from json import JSONEncoder \n",
      "\n",
      "class Song:\n",
      "    def __init__(self, index, artist, track, url, lyrics):\n",
      "        self.index = index\n",
      "        self.artist = artist\n",
      "        self.track = track\n",
      "        self.url = url\n",
      "        self.lyrics = lyrics\n",
      "    \n",
      "    def __str__(self): \n",
      "        result = \"Artist: \" + self.artist\n",
      "        result += \", Track: \" + self.track \n",
      "        result += \", URL: \" + self.url\n",
      "        return result \n",
      "    \n",
      "    def __repr__(self): \n",
      "        return self.__str__()\n",
      "    \n",
      "    def jsonable(self):\n",
      "        return self.__dict__\n",
      "\n",
      "class LyricError: \n",
      "    def __init__(self, index, artist, track, errorType, errorMessage):\n",
      "        self.index = index\n",
      "        self.artist = artist\n",
      "        self.track = track\n",
      "        self.errorType = errorType\n",
      "        self.errorMessage = errorMessage\n",
      "        \n",
      "    def __str__(self):\n",
      "        result = \"Artist: \" + self.artist\n",
      "        result += \", Track: \" + self.track \n",
      "        result += \", ErrorType: \" + self.errorType\n",
      "        result += \", Msg: \" + self.errorMessage\n",
      "        return result \n",
      "    \n",
      "    def __repr__(self): \n",
      "        return self.__str__()\n",
      "    \n",
      "    def jsonable(self):\n",
      "        return self.__dict__\n",
      "    \n",
      "def ComplexHandler(Obj):\n",
      "    if hasattr(Obj, 'jsonable'):\n",
      "        return Obj.jsonable()\n",
      "    else:\n",
      "        raise TypeError, 'Object of type %s with value of %s is not JSON serializable' % (type(Obj), repr(Obj))"
     ],
     "language": "python",
     "metadata": {},
     "outputs": [],
     "prompt_number": 10
    },
    {
     "cell_type": "code",
     "collapsed": false,
     "input": [
      "# lyrics&music API\n",
      "song_base = \"http://api.lyricsnmusic.com/songs?api_key=\"\n",
      "apikey = apikeys[28]\n",
      "\n",
      "def stripPuncEscape(input_string):\n",
      "    \"\"\" Removes all escape sequences, replaces \\r\\n with \" \", and removes punctuation \"\"\"\n",
      "    delete = \"\"\n",
      "    i=1\n",
      "    while (i<0x20):\n",
      "        delete += chr(i)\n",
      "        i += 1\n",
      "    t = input_string.replace(\"\\r\\n\", \" \")\n",
      "    # If need ASCII encoding\n",
      "    #t = re.sub(u\"(\\u2018|\\u2019)\", \"'\", t)\n",
      "    t = t.translate(None, string.punctuation)\n",
      "    t = t.translate(None, delete)\n",
      "    return t\n",
      "\n",
      "# Go with the first entry\n",
      "def findSongAPI(index, artist, track, apikey, mistake = 5):\n",
      "    artist = urllib2.quote(artist.encode(\"utf-8\"))\n",
      "    track = urllib2.quote(track.encode(\"utf-8\"))\n",
      "    song_url = song_base+apikey+\"&artist=\"+artist+\"&track=\"+track\n",
      "    try:\n",
      "        r = requests.get(song_url)\n",
      "    except ConnectionError as e:\n",
      "        if (mistake > 0):\n",
      "            return findSongAPI(index, artist, track, apikey, mistake - 1)\n",
      "        else:\n",
      "            return (None, None)\n",
      "        \n",
      "    lyric_url = None\n",
      "    lyrics = None\n",
      "\n",
      "    try: \n",
      "        lyric_url = r.json()[0]['url']\n",
      "        song = requests.get(lyric_url.encode())\n",
      "        soup = BeautifulSoup(song.text)\n",
      "        soup = soup.find('pre', attrs={'itemprop':'description'})\n",
      "        lyrics = soup.text.encode('utf-8')\n",
      "        lyrics = stripPuncEscape(lyrics)\n",
      "        return (lyric_url, lyrics)\n",
      "    except AttributeError as e:\n",
      "        curr_error = LyricError(index, artist, track, \"AttributeError\", str(e))\n",
      "        errors.insert(curr_error.__dict__)\n",
      "        return (None, None)\n",
      "    except ValueError as e:\n",
      "        curr_error = LyricError(index, artist, track, \"ValueError\", str(e))\n",
      "        errors.insert(curr_error.__dict__)\n",
      "        return (None, None)\n",
      "    except IndexError as e: \n",
      "        curr_error = LyricError(index, artist, track, \"IndexError\", str(e))\n",
      "        errors.insert(curr_error.__dict__)\n",
      "        return (None, None)\n",
      "    except ConnectionError as e: \n",
      "        curr_error = LyricError(index, artist, track, \"ConnectionError\", str(e))\n",
      "        errors.insert(curr_error.__dict__)\n",
      "        return (None, None)\n",
      "    except UnicodeDecodeError as e: \n",
      "        curr_error = LyricError(index, artist, track, \"UnicodeDecodeError\", str(e))\n",
      "        errors.insert(curr_error.__dict__)\n",
      "        return (None, None)\n",
      "    except UnboundLocalError as e: \n",
      "        curr_error = LyricError(index, artist, track, \"UnboundLocalError\", str(e))\n",
      "        errors.insert(curr_error.__dict__)\n",
      "        return (None, None)\n",
      "    except Exception as e: \n",
      "        curr_error = LyricError(index, artist, track, \"Exception\", str(e))\n",
      "        errors.insert(curr_error.__dict__)\n",
      "        return (None, None)"
     ],
     "language": "python",
     "metadata": {},
     "outputs": [],
     "prompt_number": 21
    },
    {
     "cell_type": "code",
     "collapsed": false,
     "input": [
      "start = datetime.datetime.now()\n",
      "index = 0\n",
      "skip = 0\n",
      "\n",
      "with open('BillboardMusic.csv', 'rb') as csvfile:\n",
      "    reader = csv.DictReader(csvfile)\n",
      "    #print reader.fieldnames\n",
      "\n",
      "    keyCount = 1\n",
      "    keyIndex = 0\n",
      "    apikey = apikeys[keyIndex]\n",
      "            \n",
      "    for row in reader:\n",
      "        if index < skip: \n",
      "            index += 1\n",
      "        else: \n",
      "            artist = row['Artist']\n",
      "            track = row['Track']\n",
      "                        \n",
      "            url, lyrics = findSongAPI(index, artist, track, apikeys[keyIndex])\n",
      "            \n",
      "            if keyCount == 10:\n",
      "                keyCount = 1\n",
      "                apikey = apikeys[keyIndex]\n",
      "                if keyIndex + 1 == len(apikeys):\n",
      "                    keyIndex = 0\n",
      "                else:\n",
      "                    keyIndex += 1\n",
      "            else:\n",
      "                keyCount += 1\n",
      "\n",
      "            \n",
      "            artist = artist.replace(\",\", \"\")\n",
      "            track = track.replace(\",\", \"\")\n",
      "            curr_song = Song(index, artist, track, url, lyrics)\n",
      "            print curr_song.__dict__\n",
      "            top_songs.insert(curr_song.__dict__)\n",
      "            print index # So that you know it's still working\n",
      "            index += 1\n",
      "            time.sleep(0.1)\n",
      "            # Debugger\n",
      "            if index > 5:\n",
      "                break"
     ],
     "language": "python",
     "metadata": {},
     "outputs": [
      {
       "output_type": "stream",
       "stream": "stdout",
       "text": [
        "{'track': 'See You Tonight', 'index': 0, 'url': u'http://www.lyricsnmusic.com/scotty-mccreery/see-you-tonight-lyrics/29994759', 'lyrics': 'Girl you know I love talking to you on the phone And I could listen to your sweet voice all night long Sometimes I can get by with a sweet dreams baby good night But this time well I dont wanna spend it alone  So Im coming over I hope its alright Listen for me pulling into your drive Look out your window youll see my lights Baby Baby yeah girl I gotta see you tonight The way the breeze is blowing blowing Got me wishing I was holding holding On to you so tight under that porch light But girl I gotta see you tonight tonight tonight Now girl I gotta see you tonight tonight tonight  I gotta couple hundred pictures of your pretty face On my phone on my dash all over the place But I would drive a million miles Just to see that ol little smile in real life And baby its worth the drive Youre worth the drive  So Im coming over I hope its alright Listen for me pulling into your drive Look out your window youll see my lights Baby Baby now girl I gotta see you tonight The way the breeze is blowing blowing Got me wishing I was holding holding On to you so tight under that porch light But girl I gotta see you tonight tonight tonight Now girl I gotta see you tonight tonight tonight whoa  No I dont care what time it is I just gotta get a little moonlight kiss Girl I cant help it when I feel like this Theres only one thing to do Baby Im missing you  Im coming over I hope its alright Listen for me pulling into your drive Look out your window youll see my lights Baby Baby now girl I gotta see you tonight The way the breeze is blowing blowing Got me wishing I was holding holding On to you so tight under that porch light But girl I gotta see you tonight tonight tonight Yea girl I gotta see you tonight tonight tonight yeah  Girl I gotta see you tonight', 'artist': 'Scotty McCreery'}\n",
        "0"
       ]
      },
      {
       "output_type": "stream",
       "stream": "stdout",
       "text": [
        "\n",
        "{'track': 'HeadBand', 'index': 1, 'url': u'http://www.lyricsnmusic.com/b-o-b/headband-lyrics/29512394', 'lyrics': 'Already got one rolled up in my left hand Pussy on my mind tighter than a headband Kush in my lungs got ganja in my sweat glands This shit Im on better than the next strand Than the next strand better than the next strand She head down booty poppin in a handstand I shine bright Ill give your girl a slight tan I make that pussy whistle like the Old Spice man I dont even understand why shed ever want a man If she ever throw it Id catch it like a cornerback Like a cornerback thats an interception You think I give a fuck thats a misconception Oh what a night oh what a night The roof is on fire so what Im high I said oh what a night oh what a night Yeah she a bad bitch all jokes aside  Hey look at baby over there Whats up little mama come here She started talking but I really couldnt hear Until she started dancing like she do it in the mirror whoa Like she do it in the mirror like she do it in the mirror whoa She broke it down started moving like Shakira Like she do it in the mirror  I chop one chop two chop that ass down Chop that ass down chop chop that ass down All I want you to do is just drop that ass down Drop drop that ass down now look back at it  Whistling Dixie Middle school I was getting head on a ten speed Jiggalo blood line pimpin hereditary Black on 28s it remind of February Bet you can fuck with me that would be Neveruary Dead ass rapper should have came with a cemetery I am so cold nigga like Ben  Jerry Fill a nigga deal a nigga kill a nigga obituary My vision blurry these bitches flirtin Ive been drinking all night I think my kidneys hurtin So I closed the curtains on the 62 Her ass would knock your ass out you better stick and move True Chain hang to my dingaling Chain hang chain hang to my dingaling To do a threesome you gotta intervene Her legs so sexy when Im inbetween  Hey look at baby over there Whats up little mama come here She started talking but I really couldnt hear Until she started dancing like she do it in the mirror whoa Like she do it in the mirror like she do it in the mirrorwhoa She broke it down started moving like Shakira Like she do it in the mirror  I chop one chop two chop that ass down Chop that ass down chop chop that ass down All I want you to do is just drop that ass down Drop drop that ass down now look back at it  She do it like she do it in the mirror Be cautious that booty is bigger than it appears She speed it up or slow it down like shes switching gears Im looking for the baddest one here I tell her like do that there do that there You gotta stretch it out girl move that there She bend it over touch her toes when she toot that there Like hut one hut two girl who back there Who back there Im back there I could take a step back and sip my cognac there Picture perfect body thats a Kodak there Now make a nigga feel welcome like a doormats there Im like oh what a night oh what a night The roof is on fire so what Im high Im like oh what a night oh what a night Thats a bad bitch all jokes aside there she go  Hey look at baby over there Whats up little mama come here She started talking but I really couldnt hear Until she started dancing like she do it in the mirror whoa Like she do it in the mirror like she do it in the mirror whoa She broke it down started moving like Shakira Like she do it in the mirror  Chop one chop two chop that ass down Chop that ass down chop chop that ass down All I want you to do is just drop that ass down Drop drop that ass down now look back at it', 'artist': 'B.o.B '}"
       ]
      },
      {
       "output_type": "stream",
       "stream": "stdout",
       "text": [
        "\n",
        "1\n",
        "{'track': 'Counting Stars', 'index': 2, 'url': None, 'lyrics': None, 'artist': 'OneRepublic'}"
       ]
      },
      {
       "output_type": "stream",
       "stream": "stdout",
       "text": [
        "\n",
        "2\n",
        "{'track': 'Let Her Go', 'index': 3, 'url': None, 'lyrics': None, 'artist': 'Passenger'}"
       ]
      },
      {
       "output_type": "stream",
       "stream": "stdout",
       "text": [
        "\n",
        "3\n",
        "{'track': 'Pompeii', 'index': 4, 'url': u'http://www.lyricsnmusic.com/bastille/pompeii-lyrics/29478793', 'lyrics': 'I was left to my own devices Many days fell away with nothing to show  And the walls kept tumbling down In the city that we love Great clouds roll over the hills Bringing darkness from above  But if you close your eyes Does it almost feel like Nothing changed at all And if you close your eyes Does it almost feel like Youve been here before How am I gonna be an optimist about this How am I gonna be an optimist about this  We were caught up and lost in all of our vices In your pose as the dust settles around us  And the walls kept tumbling down In the city that we love Great clouds roll over the hills Bringing darkness from above  But if you close your eyes Does it almost feel like Nothing changed at all And if you close your eyes Does it almost feel like Youve been here before How am I gonna be an optimist about this How am I gonna be an optimist about this  Oh where do we begin The rubble or our sins Oh where do we begin The rubble or our sins  And the walls kept tumbling down In the city that we love Great clouds roll over the hills Bringing darkness from above  But if you close your eyes Does it almost feel like Nothing changed at all And if you close your eyes Does it almost feel like Youve been here before How am I gonna be an optimist about this How am I gonna be an optimist about this  If you close your eyes does it almost feel like nothing changed at all', 'artist': 'Bastille'}"
       ]
      },
      {
       "ename": "ConnectionError",
       "evalue": "HTTPConnectionPool(host='api.lyricsnmusic.com', port=80): Max retries exceeded with url: /songs?api_key=dfb96160456ad89c4130604490c8bb&artist=Zendaya&track=Replay (Caused by <class 'socket.gaierror'>: [Errno -2] Name or service not known)",
       "output_type": "pyerr",
       "traceback": [
        "\u001b[0;31m---------------------------------------------------------------------------\u001b[0m\n\u001b[0;31mConnectionError\u001b[0m                           Traceback (most recent call last)",
        "\u001b[0;32m<ipython-input-16-f1b9b537ae92>\u001b[0m in \u001b[0;36m<module>\u001b[0;34m()\u001b[0m\n\u001b[1;32m     18\u001b[0m             \u001b[0mtrack\u001b[0m \u001b[0;34m=\u001b[0m \u001b[0mrow\u001b[0m\u001b[0;34m[\u001b[0m\u001b[0;34m'Track'\u001b[0m\u001b[0;34m]\u001b[0m\u001b[0;34m\u001b[0m\u001b[0m\n\u001b[1;32m     19\u001b[0m \u001b[0;34m\u001b[0m\u001b[0m\n\u001b[0;32m---> 20\u001b[0;31m             \u001b[0murl\u001b[0m\u001b[0;34m,\u001b[0m \u001b[0mlyrics\u001b[0m \u001b[0;34m=\u001b[0m \u001b[0mfindSongAPI\u001b[0m\u001b[0;34m(\u001b[0m\u001b[0mindex\u001b[0m\u001b[0;34m,\u001b[0m \u001b[0martist\u001b[0m\u001b[0;34m,\u001b[0m \u001b[0mtrack\u001b[0m\u001b[0;34m,\u001b[0m \u001b[0mapikeys\u001b[0m\u001b[0;34m[\u001b[0m\u001b[0mkeyIndex\u001b[0m\u001b[0;34m]\u001b[0m\u001b[0;34m)\u001b[0m\u001b[0;34m\u001b[0m\u001b[0m\n\u001b[0m\u001b[1;32m     21\u001b[0m \u001b[0;34m\u001b[0m\u001b[0m\n\u001b[1;32m     22\u001b[0m             \u001b[0;32mif\u001b[0m \u001b[0mkeyCount\u001b[0m \u001b[0;34m==\u001b[0m \u001b[0;36m10\u001b[0m\u001b[0;34m:\u001b[0m\u001b[0;34m\u001b[0m\u001b[0m\n",
        "\u001b[0;32m<ipython-input-15-9b941afc026e>\u001b[0m in \u001b[0;36mfindSongAPI\u001b[0;34m(index, artist, track, apikey)\u001b[0m\n\u001b[1;32m     22\u001b[0m     \u001b[0mtrack\u001b[0m \u001b[0;34m=\u001b[0m \u001b[0murllib2\u001b[0m\u001b[0;34m.\u001b[0m\u001b[0mquote\u001b[0m\u001b[0;34m(\u001b[0m\u001b[0mtrack\u001b[0m\u001b[0;34m.\u001b[0m\u001b[0mencode\u001b[0m\u001b[0;34m(\u001b[0m\u001b[0;34m\"utf-8\"\u001b[0m\u001b[0;34m)\u001b[0m\u001b[0;34m)\u001b[0m\u001b[0;34m\u001b[0m\u001b[0m\n\u001b[1;32m     23\u001b[0m     \u001b[0msong_url\u001b[0m \u001b[0;34m=\u001b[0m \u001b[0msong_base\u001b[0m\u001b[0;34m+\u001b[0m\u001b[0mapikey\u001b[0m\u001b[0;34m+\u001b[0m\u001b[0;34m\"&artist=\"\u001b[0m\u001b[0;34m+\u001b[0m\u001b[0martist\u001b[0m\u001b[0;34m+\u001b[0m\u001b[0;34m\"&track=\"\u001b[0m\u001b[0;34m+\u001b[0m\u001b[0mtrack\u001b[0m\u001b[0;34m\u001b[0m\u001b[0m\n\u001b[0;32m---> 24\u001b[0;31m     \u001b[0mr\u001b[0m \u001b[0;34m=\u001b[0m \u001b[0mrequests\u001b[0m\u001b[0;34m.\u001b[0m\u001b[0mget\u001b[0m\u001b[0;34m(\u001b[0m\u001b[0msong_url\u001b[0m\u001b[0;34m)\u001b[0m\u001b[0;34m\u001b[0m\u001b[0m\n\u001b[0m\u001b[1;32m     25\u001b[0m     \u001b[0mlyric_url\u001b[0m \u001b[0;34m=\u001b[0m \u001b[0mNone\u001b[0m\u001b[0;34m\u001b[0m\u001b[0m\n\u001b[1;32m     26\u001b[0m     \u001b[0mlyrics\u001b[0m \u001b[0;34m=\u001b[0m \u001b[0mNone\u001b[0m\u001b[0;34m\u001b[0m\u001b[0m\n",
        "\u001b[0;32m/usr/lib/python2.7/dist-packages/requests/api.pyc\u001b[0m in \u001b[0;36mget\u001b[0;34m(url, **kwargs)\u001b[0m\n\u001b[1;32m     53\u001b[0m \u001b[0;34m\u001b[0m\u001b[0m\n\u001b[1;32m     54\u001b[0m     \u001b[0mkwargs\u001b[0m\u001b[0;34m.\u001b[0m\u001b[0msetdefault\u001b[0m\u001b[0;34m(\u001b[0m\u001b[0;34m'allow_redirects'\u001b[0m\u001b[0;34m,\u001b[0m \u001b[0mTrue\u001b[0m\u001b[0;34m)\u001b[0m\u001b[0;34m\u001b[0m\u001b[0m\n\u001b[0;32m---> 55\u001b[0;31m     \u001b[0;32mreturn\u001b[0m \u001b[0mrequest\u001b[0m\u001b[0;34m(\u001b[0m\u001b[0;34m'get'\u001b[0m\u001b[0;34m,\u001b[0m \u001b[0murl\u001b[0m\u001b[0;34m,\u001b[0m \u001b[0;34m**\u001b[0m\u001b[0mkwargs\u001b[0m\u001b[0;34m)\u001b[0m\u001b[0;34m\u001b[0m\u001b[0m\n\u001b[0m\u001b[1;32m     56\u001b[0m \u001b[0;34m\u001b[0m\u001b[0m\n\u001b[1;32m     57\u001b[0m \u001b[0;34m\u001b[0m\u001b[0m\n",
        "\u001b[0;32m/usr/lib/python2.7/dist-packages/requests/api.pyc\u001b[0m in \u001b[0;36mrequest\u001b[0;34m(method, url, **kwargs)\u001b[0m\n\u001b[1;32m     42\u001b[0m \u001b[0;34m\u001b[0m\u001b[0m\n\u001b[1;32m     43\u001b[0m     \u001b[0msession\u001b[0m \u001b[0;34m=\u001b[0m \u001b[0msessions\u001b[0m\u001b[0;34m.\u001b[0m\u001b[0mSession\u001b[0m\u001b[0;34m(\u001b[0m\u001b[0;34m)\u001b[0m\u001b[0;34m\u001b[0m\u001b[0m\n\u001b[0;32m---> 44\u001b[0;31m     \u001b[0;32mreturn\u001b[0m \u001b[0msession\u001b[0m\u001b[0;34m.\u001b[0m\u001b[0mrequest\u001b[0m\u001b[0;34m(\u001b[0m\u001b[0mmethod\u001b[0m\u001b[0;34m=\u001b[0m\u001b[0mmethod\u001b[0m\u001b[0;34m,\u001b[0m \u001b[0murl\u001b[0m\u001b[0;34m=\u001b[0m\u001b[0murl\u001b[0m\u001b[0;34m,\u001b[0m \u001b[0;34m**\u001b[0m\u001b[0mkwargs\u001b[0m\u001b[0;34m)\u001b[0m\u001b[0;34m\u001b[0m\u001b[0m\n\u001b[0m\u001b[1;32m     45\u001b[0m \u001b[0;34m\u001b[0m\u001b[0m\n\u001b[1;32m     46\u001b[0m \u001b[0;34m\u001b[0m\u001b[0m\n",
        "\u001b[0;32m/usr/lib/python2.7/dist-packages/requests/sessions.pyc\u001b[0m in \u001b[0;36mrequest\u001b[0;34m(self, method, url, params, data, headers, cookies, files, auth, timeout, allow_redirects, proxies, hooks, stream, verify, cert)\u001b[0m\n\u001b[1;32m    453\u001b[0m             \u001b[0;34m'allow_redirects'\u001b[0m\u001b[0;34m:\u001b[0m \u001b[0mallow_redirects\u001b[0m\u001b[0;34m,\u001b[0m\u001b[0;34m\u001b[0m\u001b[0m\n\u001b[1;32m    454\u001b[0m         }\n\u001b[0;32m--> 455\u001b[0;31m         \u001b[0mresp\u001b[0m \u001b[0;34m=\u001b[0m \u001b[0mself\u001b[0m\u001b[0;34m.\u001b[0m\u001b[0msend\u001b[0m\u001b[0;34m(\u001b[0m\u001b[0mprep\u001b[0m\u001b[0;34m,\u001b[0m \u001b[0;34m**\u001b[0m\u001b[0msend_kwargs\u001b[0m\u001b[0;34m)\u001b[0m\u001b[0;34m\u001b[0m\u001b[0m\n\u001b[0m\u001b[1;32m    456\u001b[0m \u001b[0;34m\u001b[0m\u001b[0m\n\u001b[1;32m    457\u001b[0m         \u001b[0;32mreturn\u001b[0m \u001b[0mresp\u001b[0m\u001b[0;34m\u001b[0m\u001b[0m\n",
        "\u001b[0;32m/usr/lib/python2.7/dist-packages/requests/sessions.pyc\u001b[0m in \u001b[0;36msend\u001b[0;34m(self, request, **kwargs)\u001b[0m\n\u001b[1;32m    556\u001b[0m         \u001b[0mstart\u001b[0m \u001b[0;34m=\u001b[0m \u001b[0mdatetime\u001b[0m\u001b[0;34m.\u001b[0m\u001b[0mutcnow\u001b[0m\u001b[0;34m(\u001b[0m\u001b[0;34m)\u001b[0m\u001b[0;34m\u001b[0m\u001b[0m\n\u001b[1;32m    557\u001b[0m         \u001b[0;31m# Send the request\u001b[0m\u001b[0;34m\u001b[0m\u001b[0;34m\u001b[0m\u001b[0m\n\u001b[0;32m--> 558\u001b[0;31m         \u001b[0mr\u001b[0m \u001b[0;34m=\u001b[0m \u001b[0madapter\u001b[0m\u001b[0;34m.\u001b[0m\u001b[0msend\u001b[0m\u001b[0;34m(\u001b[0m\u001b[0mrequest\u001b[0m\u001b[0;34m,\u001b[0m \u001b[0;34m**\u001b[0m\u001b[0mkwargs\u001b[0m\u001b[0;34m)\u001b[0m\u001b[0;34m\u001b[0m\u001b[0m\n\u001b[0m\u001b[1;32m    559\u001b[0m         \u001b[0;31m# Total elapsed time of the request (approximately)\u001b[0m\u001b[0;34m\u001b[0m\u001b[0;34m\u001b[0m\u001b[0m\n\u001b[1;32m    560\u001b[0m         \u001b[0mr\u001b[0m\u001b[0;34m.\u001b[0m\u001b[0melapsed\u001b[0m \u001b[0;34m=\u001b[0m \u001b[0mdatetime\u001b[0m\u001b[0;34m.\u001b[0m\u001b[0mutcnow\u001b[0m\u001b[0;34m(\u001b[0m\u001b[0;34m)\u001b[0m \u001b[0;34m-\u001b[0m \u001b[0mstart\u001b[0m\u001b[0;34m\u001b[0m\u001b[0m\n",
        "\u001b[0;32m/usr/lib/python2.7/dist-packages/requests/adapters.pyc\u001b[0m in \u001b[0;36msend\u001b[0;34m(self, request, stream, timeout, verify, cert, proxies)\u001b[0m\n\u001b[1;32m    376\u001b[0m \u001b[0;34m\u001b[0m\u001b[0m\n\u001b[1;32m    377\u001b[0m         \u001b[0;32mexcept\u001b[0m \u001b[0mMaxRetryError\u001b[0m \u001b[0;32mas\u001b[0m \u001b[0me\u001b[0m\u001b[0;34m:\u001b[0m\u001b[0;34m\u001b[0m\u001b[0m\n\u001b[0;32m--> 378\u001b[0;31m             \u001b[0;32mraise\u001b[0m \u001b[0mConnectionError\u001b[0m\u001b[0;34m(\u001b[0m\u001b[0me\u001b[0m\u001b[0;34m)\u001b[0m\u001b[0;34m\u001b[0m\u001b[0m\n\u001b[0m\u001b[1;32m    379\u001b[0m \u001b[0;34m\u001b[0m\u001b[0m\n\u001b[1;32m    380\u001b[0m         \u001b[0;32mexcept\u001b[0m \u001b[0m_ProxyError\u001b[0m \u001b[0;32mas\u001b[0m \u001b[0me\u001b[0m\u001b[0;34m:\u001b[0m\u001b[0;34m\u001b[0m\u001b[0m\n",
        "\u001b[0;31mConnectionError\u001b[0m: HTTPConnectionPool(host='api.lyricsnmusic.com', port=80): Max retries exceeded with url: /songs?api_key=dfb96160456ad89c4130604490c8bb&artist=Zendaya&track=Replay (Caused by <class 'socket.gaierror'>: [Errno -2] Name or service not known)"
       ]
      },
      {
       "output_type": "stream",
       "stream": "stdout",
       "text": [
        "\n",
        "4\n"
       ]
      }
     ],
     "prompt_number": 16
    },
    {
     "cell_type": "code",
     "collapsed": false,
     "input": [
      "url, lyrics = findSongAPI(4, \"Passenger\", \"Let Her Go\", apikeys[keyIndex+1])\n",
      "\n",
      "print lyrics "
     ],
     "language": "python",
     "metadata": {},
     "outputs": [
      {
       "ename": "ConnectionError",
       "evalue": "HTTPConnectionPool(host='api.lyricsnmusic.com', port=80): Max retries exceeded with url: /songs?api_key=b32cd0948bbe026a5653d8cecdac01&artist=Passenger&track=Let%20Her%20Go (Caused by <class 'socket.gaierror'>: [Errno -2] Name or service not known)",
       "output_type": "pyerr",
       "traceback": [
        "\u001b[0;31m---------------------------------------------------------------------------\u001b[0m\n\u001b[0;31mConnectionError\u001b[0m                           Traceback (most recent call last)",
        "\u001b[0;32m<ipython-input-19-ced5344353e9>\u001b[0m in \u001b[0;36m<module>\u001b[0;34m()\u001b[0m\n\u001b[0;32m----> 1\u001b[0;31m \u001b[0murl\u001b[0m\u001b[0;34m,\u001b[0m \u001b[0mlyrics\u001b[0m \u001b[0;34m=\u001b[0m \u001b[0mfindSongAPI\u001b[0m\u001b[0;34m(\u001b[0m\u001b[0;36m4\u001b[0m\u001b[0;34m,\u001b[0m \u001b[0;34m\"Passenger\"\u001b[0m\u001b[0;34m,\u001b[0m \u001b[0;34m\"Let Her Go\"\u001b[0m\u001b[0;34m,\u001b[0m \u001b[0mapikeys\u001b[0m\u001b[0;34m[\u001b[0m\u001b[0mkeyIndex\u001b[0m\u001b[0;34m+\u001b[0m\u001b[0;36m1\u001b[0m\u001b[0;34m]\u001b[0m\u001b[0;34m)\u001b[0m\u001b[0;34m\u001b[0m\u001b[0m\n\u001b[0m\u001b[1;32m      2\u001b[0m \u001b[0;34m\u001b[0m\u001b[0m\n\u001b[1;32m      3\u001b[0m \u001b[0;32mprint\u001b[0m \u001b[0mlyrics\u001b[0m\u001b[0;34m\u001b[0m\u001b[0m\n",
        "\u001b[0;32m<ipython-input-15-9b941afc026e>\u001b[0m in \u001b[0;36mfindSongAPI\u001b[0;34m(index, artist, track, apikey)\u001b[0m\n\u001b[1;32m     22\u001b[0m     \u001b[0mtrack\u001b[0m \u001b[0;34m=\u001b[0m \u001b[0murllib2\u001b[0m\u001b[0;34m.\u001b[0m\u001b[0mquote\u001b[0m\u001b[0;34m(\u001b[0m\u001b[0mtrack\u001b[0m\u001b[0;34m.\u001b[0m\u001b[0mencode\u001b[0m\u001b[0;34m(\u001b[0m\u001b[0;34m\"utf-8\"\u001b[0m\u001b[0;34m)\u001b[0m\u001b[0;34m)\u001b[0m\u001b[0;34m\u001b[0m\u001b[0m\n\u001b[1;32m     23\u001b[0m     \u001b[0msong_url\u001b[0m \u001b[0;34m=\u001b[0m \u001b[0msong_base\u001b[0m\u001b[0;34m+\u001b[0m\u001b[0mapikey\u001b[0m\u001b[0;34m+\u001b[0m\u001b[0;34m\"&artist=\"\u001b[0m\u001b[0;34m+\u001b[0m\u001b[0martist\u001b[0m\u001b[0;34m+\u001b[0m\u001b[0;34m\"&track=\"\u001b[0m\u001b[0;34m+\u001b[0m\u001b[0mtrack\u001b[0m\u001b[0;34m\u001b[0m\u001b[0m\n\u001b[0;32m---> 24\u001b[0;31m     \u001b[0mr\u001b[0m \u001b[0;34m=\u001b[0m \u001b[0mrequests\u001b[0m\u001b[0;34m.\u001b[0m\u001b[0mget\u001b[0m\u001b[0;34m(\u001b[0m\u001b[0msong_url\u001b[0m\u001b[0;34m)\u001b[0m\u001b[0;34m\u001b[0m\u001b[0m\n\u001b[0m\u001b[1;32m     25\u001b[0m     \u001b[0mlyric_url\u001b[0m \u001b[0;34m=\u001b[0m \u001b[0mNone\u001b[0m\u001b[0;34m\u001b[0m\u001b[0m\n\u001b[1;32m     26\u001b[0m     \u001b[0mlyrics\u001b[0m \u001b[0;34m=\u001b[0m \u001b[0mNone\u001b[0m\u001b[0;34m\u001b[0m\u001b[0m\n",
        "\u001b[0;32m/usr/lib/python2.7/dist-packages/requests/api.pyc\u001b[0m in \u001b[0;36mget\u001b[0;34m(url, **kwargs)\u001b[0m\n\u001b[1;32m     53\u001b[0m \u001b[0;34m\u001b[0m\u001b[0m\n\u001b[1;32m     54\u001b[0m     \u001b[0mkwargs\u001b[0m\u001b[0;34m.\u001b[0m\u001b[0msetdefault\u001b[0m\u001b[0;34m(\u001b[0m\u001b[0;34m'allow_redirects'\u001b[0m\u001b[0;34m,\u001b[0m \u001b[0mTrue\u001b[0m\u001b[0;34m)\u001b[0m\u001b[0;34m\u001b[0m\u001b[0m\n\u001b[0;32m---> 55\u001b[0;31m     \u001b[0;32mreturn\u001b[0m \u001b[0mrequest\u001b[0m\u001b[0;34m(\u001b[0m\u001b[0;34m'get'\u001b[0m\u001b[0;34m,\u001b[0m \u001b[0murl\u001b[0m\u001b[0;34m,\u001b[0m \u001b[0;34m**\u001b[0m\u001b[0mkwargs\u001b[0m\u001b[0;34m)\u001b[0m\u001b[0;34m\u001b[0m\u001b[0m\n\u001b[0m\u001b[1;32m     56\u001b[0m \u001b[0;34m\u001b[0m\u001b[0m\n\u001b[1;32m     57\u001b[0m \u001b[0;34m\u001b[0m\u001b[0m\n",
        "\u001b[0;32m/usr/lib/python2.7/dist-packages/requests/api.pyc\u001b[0m in \u001b[0;36mrequest\u001b[0;34m(method, url, **kwargs)\u001b[0m\n\u001b[1;32m     42\u001b[0m \u001b[0;34m\u001b[0m\u001b[0m\n\u001b[1;32m     43\u001b[0m     \u001b[0msession\u001b[0m \u001b[0;34m=\u001b[0m \u001b[0msessions\u001b[0m\u001b[0;34m.\u001b[0m\u001b[0mSession\u001b[0m\u001b[0;34m(\u001b[0m\u001b[0;34m)\u001b[0m\u001b[0;34m\u001b[0m\u001b[0m\n\u001b[0;32m---> 44\u001b[0;31m     \u001b[0;32mreturn\u001b[0m \u001b[0msession\u001b[0m\u001b[0;34m.\u001b[0m\u001b[0mrequest\u001b[0m\u001b[0;34m(\u001b[0m\u001b[0mmethod\u001b[0m\u001b[0;34m=\u001b[0m\u001b[0mmethod\u001b[0m\u001b[0;34m,\u001b[0m \u001b[0murl\u001b[0m\u001b[0;34m=\u001b[0m\u001b[0murl\u001b[0m\u001b[0;34m,\u001b[0m \u001b[0;34m**\u001b[0m\u001b[0mkwargs\u001b[0m\u001b[0;34m)\u001b[0m\u001b[0;34m\u001b[0m\u001b[0m\n\u001b[0m\u001b[1;32m     45\u001b[0m \u001b[0;34m\u001b[0m\u001b[0m\n\u001b[1;32m     46\u001b[0m \u001b[0;34m\u001b[0m\u001b[0m\n",
        "\u001b[0;32m/usr/lib/python2.7/dist-packages/requests/sessions.pyc\u001b[0m in \u001b[0;36mrequest\u001b[0;34m(self, method, url, params, data, headers, cookies, files, auth, timeout, allow_redirects, proxies, hooks, stream, verify, cert)\u001b[0m\n\u001b[1;32m    453\u001b[0m             \u001b[0;34m'allow_redirects'\u001b[0m\u001b[0;34m:\u001b[0m \u001b[0mallow_redirects\u001b[0m\u001b[0;34m,\u001b[0m\u001b[0;34m\u001b[0m\u001b[0m\n\u001b[1;32m    454\u001b[0m         }\n\u001b[0;32m--> 455\u001b[0;31m         \u001b[0mresp\u001b[0m \u001b[0;34m=\u001b[0m \u001b[0mself\u001b[0m\u001b[0;34m.\u001b[0m\u001b[0msend\u001b[0m\u001b[0;34m(\u001b[0m\u001b[0mprep\u001b[0m\u001b[0;34m,\u001b[0m \u001b[0;34m**\u001b[0m\u001b[0msend_kwargs\u001b[0m\u001b[0;34m)\u001b[0m\u001b[0;34m\u001b[0m\u001b[0m\n\u001b[0m\u001b[1;32m    456\u001b[0m \u001b[0;34m\u001b[0m\u001b[0m\n\u001b[1;32m    457\u001b[0m         \u001b[0;32mreturn\u001b[0m \u001b[0mresp\u001b[0m\u001b[0;34m\u001b[0m\u001b[0m\n",
        "\u001b[0;32m/usr/lib/python2.7/dist-packages/requests/sessions.pyc\u001b[0m in \u001b[0;36msend\u001b[0;34m(self, request, **kwargs)\u001b[0m\n\u001b[1;32m    556\u001b[0m         \u001b[0mstart\u001b[0m \u001b[0;34m=\u001b[0m \u001b[0mdatetime\u001b[0m\u001b[0;34m.\u001b[0m\u001b[0mutcnow\u001b[0m\u001b[0;34m(\u001b[0m\u001b[0;34m)\u001b[0m\u001b[0;34m\u001b[0m\u001b[0m\n\u001b[1;32m    557\u001b[0m         \u001b[0;31m# Send the request\u001b[0m\u001b[0;34m\u001b[0m\u001b[0;34m\u001b[0m\u001b[0m\n\u001b[0;32m--> 558\u001b[0;31m         \u001b[0mr\u001b[0m \u001b[0;34m=\u001b[0m \u001b[0madapter\u001b[0m\u001b[0;34m.\u001b[0m\u001b[0msend\u001b[0m\u001b[0;34m(\u001b[0m\u001b[0mrequest\u001b[0m\u001b[0;34m,\u001b[0m \u001b[0;34m**\u001b[0m\u001b[0mkwargs\u001b[0m\u001b[0;34m)\u001b[0m\u001b[0;34m\u001b[0m\u001b[0m\n\u001b[0m\u001b[1;32m    559\u001b[0m         \u001b[0;31m# Total elapsed time of the request (approximately)\u001b[0m\u001b[0;34m\u001b[0m\u001b[0;34m\u001b[0m\u001b[0m\n\u001b[1;32m    560\u001b[0m         \u001b[0mr\u001b[0m\u001b[0;34m.\u001b[0m\u001b[0melapsed\u001b[0m \u001b[0;34m=\u001b[0m \u001b[0mdatetime\u001b[0m\u001b[0;34m.\u001b[0m\u001b[0mutcnow\u001b[0m\u001b[0;34m(\u001b[0m\u001b[0;34m)\u001b[0m \u001b[0;34m-\u001b[0m \u001b[0mstart\u001b[0m\u001b[0;34m\u001b[0m\u001b[0m\n",
        "\u001b[0;32m/usr/lib/python2.7/dist-packages/requests/adapters.pyc\u001b[0m in \u001b[0;36msend\u001b[0;34m(self, request, stream, timeout, verify, cert, proxies)\u001b[0m\n\u001b[1;32m    376\u001b[0m \u001b[0;34m\u001b[0m\u001b[0m\n\u001b[1;32m    377\u001b[0m         \u001b[0;32mexcept\u001b[0m \u001b[0mMaxRetryError\u001b[0m \u001b[0;32mas\u001b[0m \u001b[0me\u001b[0m\u001b[0;34m:\u001b[0m\u001b[0;34m\u001b[0m\u001b[0m\n\u001b[0;32m--> 378\u001b[0;31m             \u001b[0;32mraise\u001b[0m \u001b[0mConnectionError\u001b[0m\u001b[0;34m(\u001b[0m\u001b[0me\u001b[0m\u001b[0;34m)\u001b[0m\u001b[0;34m\u001b[0m\u001b[0m\n\u001b[0m\u001b[1;32m    379\u001b[0m \u001b[0;34m\u001b[0m\u001b[0m\n\u001b[1;32m    380\u001b[0m         \u001b[0;32mexcept\u001b[0m \u001b[0m_ProxyError\u001b[0m \u001b[0;32mas\u001b[0m \u001b[0me\u001b[0m\u001b[0;34m:\u001b[0m\u001b[0;34m\u001b[0m\u001b[0m\n",
        "\u001b[0;31mConnectionError\u001b[0m: HTTPConnectionPool(host='api.lyricsnmusic.com', port=80): Max retries exceeded with url: /songs?api_key=b32cd0948bbe026a5653d8cecdac01&artist=Passenger&track=Let%20Her%20Go (Caused by <class 'socket.gaierror'>: [Errno -2] Name or service not known)"
       ]
      }
     ],
     "prompt_number": 19
    },
    {
     "cell_type": "code",
     "collapsed": false,
     "input": [],
     "language": "python",
     "metadata": {},
     "outputs": []
    }
   ],
   "metadata": {}
  }
 ]
}