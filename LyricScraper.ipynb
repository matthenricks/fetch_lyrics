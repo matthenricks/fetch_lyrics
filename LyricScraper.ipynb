{
 "metadata": {
  "name": "",
  "signature": "sha256:d23c208a9d98c69e5e9e2ad9beb9a60076b1743218aee9e70452babfe7513567"
 },
 "nbformat": 3,
 "nbformat_minor": 0,
 "worksheets": [
  {
   "cells": [
    {
     "cell_type": "markdown",
     "metadata": {},
     "source": [
      "Include all the imports"
     ]
    },
    {
     "cell_type": "code",
     "collapsed": false,
     "input": [
      "import numpy\n",
      "import pandas as pd\n",
      "\n",
      "import requests\n",
      "from BeautifulSoup import BeautifulSoup\n",
      "\n",
      "import time\n",
      "\n",
      "import json\n",
      "import csv"
     ],
     "language": "python",
     "metadata": {},
     "outputs": [],
     "prompt_number": 3
    },
    {
     "cell_type": "markdown",
     "metadata": {},
     "source": [
      "Auxillary Function used to obtain a lot of API keys for the lyric engine"
     ]
    },
    {
     "cell_type": "code",
     "collapsed": false,
     "input": [
      "badURL = []\n",
      "apikeys = []\n",
      "\n",
      "for ind in range(1,1000):\n",
      "    uri = \"http://www.lyricsnmusic.com/api_keys/\"+str(ind)\n",
      "    r = requests.get(uri)\n",
      "    if (r.status_code == 200):\n",
      "        soup = BeautifulSoup(r.text)\n",
      "        node = soup.find('div', attrs={'class':'grid_6 push_1'})\n",
      "        node = node.find('p').text\n",
      "        apikeys += [str.strip(str(node[15:]))]\n",
      "    else:\n",
      "        badURL += [uri]\n",
      "    time.sleep(0.5)\n",
      "    #print ind\n",
      "\n",
      "print \"\\nRESULTS\"\n",
      "print len(apikeys)\n",
      "print len(badURL)"
     ],
     "language": "python",
     "metadata": {},
     "outputs": [
      {
       "output_type": "stream",
       "stream": "stdout",
       "text": [
        "\n",
        "RESULTS\n",
        "999\n",
        "0\n"
       ]
      }
     ],
     "prompt_number": 5
    },
    {
     "cell_type": "code",
     "collapsed": false,
     "input": [
      "with open('apikeys.txt', 'w') as keyFile:\n",
      "    for key in apikeys:\n",
      "        keyFile.write(key)\n",
      "        keyFile.write(\"\\n\")"
     ],
     "language": "python",
     "metadata": {},
     "outputs": [],
     "prompt_number": 6
    },
    {
     "cell_type": "code",
     "collapsed": false,
     "input": [
      "apikeys = []\n",
      "\n",
      "with open('apikeys.txt', 'r') as keyFile:\n",
      "    st = keyFile.readline()\n",
      "    while st != \"\":\n",
      "        # Must remove the \\n\n",
      "        apikeys += [st[:-1]]\n",
      "        st = keyFile.readline()"
     ],
     "language": "python",
     "metadata": {},
     "outputs": [],
     "prompt_number": 7
    },
    {
     "cell_type": "code",
     "collapsed": false,
     "input": [
      "apikeys[:5]"
     ],
     "language": "python",
     "metadata": {},
     "outputs": [
      {
       "metadata": {},
       "output_type": "pyout",
       "prompt_number": 8,
       "text": [
        "['dfb96160456ad89c4130604490c8bb',\n",
        " 'b32cd0948bbe026a5653d8cecdac01',\n",
        " 'b66374b7c6b7e194c59c1c44961499',\n",
        " 'dcb5459d5fb6c83af914b288651788',\n",
        " '412ed51c67c57de8e9054a32838933']"
       ]
      }
     ],
     "prompt_number": 8
    },
    {
     "cell_type": "code",
     "collapsed": false,
     "input": [
      "# lyrics&music API\n",
      "song_base = \"http://api.lyricsnmusic.com/songs?api_key=\"\n",
      "counter = 0\n",
      "count = 0\n",
      "apikey = apikeys[28]\n",
      "\n",
      "def findSongAPI(title, artist):\n",
      "    song_url = song_base+apikey+\"&artist=\"+artist+\"&track=\"+title\n",
      "    r = requests.get(song_url)\n",
      "    # Go with the first entry\n",
      "    # What if this doesn't return anything\n",
      "    lyric_url = None\n",
      "    lyrics = None\n",
      "    \n",
      "    for jblob in r.json():\n",
      "        lyric_url = jblob['url']\n",
      "        song = requests.get(str(lyric_url))\n",
      "        soup = BeautifulSoup(song.text)\n",
      "        soup = soup.find('pre', attrs={'itemprop':'description'})\n",
      "        lyrics = soup.text\n",
      "        break\n",
      "\n",
      "    return (lyric_url, lyrics)"
     ],
     "language": "python",
     "metadata": {},
     "outputs": [],
     "prompt_number": 49
    },
    {
     "cell_type": "markdown",
     "metadata": {},
     "source": [
      "Start by pulling in the song and artist data from the csv file"
     ]
    },
    {
     "cell_type": "code",
     "collapsed": false,
     "input": [
      "#cols = [\"artist\", \"album\", \"track\", \"year\"]\n",
      "#songs = pd.DataFrame(columns = cols)\n",
      "\n",
      "with open('BillboardMusic.csv', 'rb') as csvfile:\n",
      "    reader = csv.DictReader(csvfile)\n",
      "#    print reader.fieldnames\n",
      "    count = 0\n",
      "    for row in reader:\n",
      "        url, lyrics = findSongAPI(row['Track'], row['Artist'])\n",
      "        print row['Track'], row['Artist'], url\n",
      "        count += 1\n",
      "        time.sleep(0.1)\n",
      "        if count >= 20:\n",
      "            break\n",
      "\n",
      "#print songs"
     ],
     "language": "python",
     "metadata": {},
     "outputs": [
      {
       "output_type": "stream",
       "stream": "stdout",
       "text": [
        "See You Tonight Scotty McCreery http://www.lyricsnmusic.com/scotty-mccreery/see-you-tonight-lyrics/29347397\n",
        "HeadBand"
       ]
      },
      {
       "output_type": "stream",
       "stream": "stdout",
       "text": [
        " B.o.B  http://www.lyricsnmusic.com/b-o-b/headband-lyrics/29512394\n",
        "Counting Stars"
       ]
      },
      {
       "output_type": "stream",
       "stream": "stdout",
       "text": [
        " OneRepublic http://www.lyricsnmusic.com/onerepublic/counting-stars-lyrics/29006118\n",
        "Let Her Go"
       ]
      },
      {
       "output_type": "stream",
       "stream": "stdout",
       "text": [
        " Passenger http://www.lyricsnmusic.com/passenger/let-her-go-lyrics/27488203\n",
        "Pompeii"
       ]
      },
      {
       "output_type": "stream",
       "stream": "stdout",
       "text": [
        " Bastille http://www.lyricsnmusic.com/bastille/pompeii-lyrics/29478793\n",
        "Replay"
       ]
      },
      {
       "output_type": "stream",
       "stream": "stdout",
       "text": [
        " Zendaya http://www.lyricsnmusic.com/zendaya/replay-lyrics/29883059\n",
        "All Of Me"
       ]
      },
      {
       "output_type": "stream",
       "stream": "stdout",
       "text": [
        " John Legend http://www.lyricsnmusic.com/john-legend/all-of-me-lyrics/29749762\n",
        "Stay The Night"
       ]
      },
      {
       "output_type": "stream",
       "stream": "stdout",
       "text": [
        " Zedd http://www.lyricsnmusic.com/hayley-williams-and-zedd/stay-the-night-lyrics/29929554\n",
        "Dark Horse"
       ]
      },
      {
       "output_type": "stream",
       "stream": "stdout",
       "text": [
        " Katy Perry http://www.lyricsnmusic.com/katy-perry/dark-horse-lyrics/29982386\n",
        "Waiting For Superman"
       ]
      },
      {
       "output_type": "stream",
       "stream": "stdout",
       "text": [
        " Daughtry http://www.lyricsnmusic.com/daughtry/waiting-for-superman-lyrics/30013909\n",
        "Show Me"
       ]
      },
      {
       "output_type": "stream",
       "stream": "stdout",
       "text": [
        " Kid Ink http://www.lyricsnmusic.com/kid-ink/show-me-lyrics/29980516\n",
        "Animals"
       ]
      },
      {
       "output_type": "stream",
       "stream": "stdout",
       "text": [
        " Martin Garrix http://www.lyricsnmusic.com/martin-garrix/animals-lyrics/31095995\n",
        "Team"
       ]
      },
      {
       "output_type": "stream",
       "stream": "stdout",
       "text": [
        " Lorde http://www.lyricsnmusic.com/lorde/team-lyrics/29962331\n",
        "Whatever She's Got"
       ]
      },
      {
       "output_type": "stream",
       "stream": "stdout",
       "text": [
        " David Nail http://www.lyricsnmusic.com/david-nail/whatever-she-s-got-lyrics/30512269\n",
        "Adore You"
       ]
      },
      {
       "output_type": "stream",
       "stream": "stdout",
       "text": [
        " Miley Cyrus http://www.lyricsnmusic.com/miley-cyrus/adore-you-lyrics/29978664\n",
        "Timber"
       ]
      },
      {
       "output_type": "stream",
       "stream": "stdout",
       "text": [
        " Pitbull http://www.lyricsnmusic.com/pitbull-and-ke-ha/timber-lyrics/30030471\n",
        "Friday Night"
       ]
      },
      {
       "output_type": "stream",
       "stream": "stdout",
       "text": [
        " Eric Paslay http://www.lyricsnmusic.com/eric-paslay/friday-night-lyrics/30634967\n",
        "Chillin' It"
       ]
      },
      {
       "output_type": "stream",
       "stream": "stdout",
       "text": [
        " Cole Swindell http://www.lyricsnmusic.com/cole-swindell/chillin-it-lyrics/30506733\n",
        "Drink A Beer"
       ]
      },
      {
       "output_type": "stream",
       "stream": "stdout",
       "text": [
        " Luke Bryan http://www.lyricsnmusic.com/luke-bryan/drink-a-beer-lyrics/29676766\n",
        "Compass"
       ]
      },
      {
       "output_type": "stream",
       "stream": "stdout",
       "text": [
        " Lady Antebellum http://www.lyricsnmusic.com/lady-antebellum/compass-lyrics/30143041\n"
       ]
      }
     ],
     "prompt_number": 50
    },
    {
     "cell_type": "code",
     "collapsed": false,
     "input": [],
     "language": "python",
     "metadata": {},
     "outputs": []
    }
   ],
   "metadata": {}
  }
 ]
}