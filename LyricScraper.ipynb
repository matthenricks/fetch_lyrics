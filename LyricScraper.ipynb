{
 "metadata": {
  "name": "",
  "signature": "sha256:832d367e7579a6f3fb69f07f65821730aff13442a85f2281bad73abea661cfee"
 },
 "nbformat": 3,
 "nbformat_minor": 0,
 "worksheets": [
  {
   "cells": [
    {
     "cell_type": "markdown",
     "metadata": {},
     "source": [
      "Include all the imports"
     ]
    },
    {
     "cell_type": "code",
     "collapsed": false,
     "input": [
      "import numpy\n",
      "import pandas as pd\n",
      "import requests\n",
      "import time\n",
      "import json\n",
      "import csv\n",
      "import datetime\n",
      "import string \n",
      "import re\n",
      "import urllib2\n",
      "from BeautifulSoup import BeautifulSoup"
     ],
     "language": "python",
     "metadata": {},
     "outputs": [],
     "prompt_number": 97
    },
    {
     "cell_type": "markdown",
     "metadata": {},
     "source": [
      "Auxillary Function used to obtain a lot of API keys for the lyric engine"
     ]
    },
    {
     "cell_type": "code",
     "collapsed": false,
     "input": [
      "badURL = []\n",
      "apikeys = []\n",
      "\n",
      "for ind in range(1,1000):\n",
      "    uri = \"http://www.lyricsnmusic.com/api_keys/\"+str(ind)\n",
      "    r = requests.get(uri)\n",
      "    if (r.status_code == 200):\n",
      "        soup = BeautifulSoup(r.text)\n",
      "        node = soup.find('div', attrs={'class':'grid_6 push_1'})\n",
      "        node = node.find('p').text\n",
      "        apikeys += [str.strip(str(node[15:]))]\n",
      "    else:\n",
      "        badURL += [uri]\n",
      "    time.sleep(0.5)\n",
      "\n",
      "print \"\\nRESULTS\"\n",
      "print \"apikeys\", len(apikeys)\n",
      "print \"badURL\", len(badURL)"
     ],
     "language": "python",
     "metadata": {},
     "outputs": [
      {
       "output_type": "stream",
       "stream": "stdout",
       "text": [
        "\n",
        "RESULTS\n",
        "999\n",
        "0\n"
       ]
      }
     ],
     "prompt_number": 5
    },
    {
     "cell_type": "code",
     "collapsed": false,
     "input": [
      "with open('apikeys.txt', 'w') as keyFile:\n",
      "    for key in apikeys:\n",
      "        keyFile.write(key)\n",
      "        keyFile.write(\"\\n\")"
     ],
     "language": "python",
     "metadata": {},
     "outputs": [],
     "prompt_number": 8
    },
    {
     "cell_type": "code",
     "collapsed": false,
     "input": [
      "apikeys = []\n",
      "\n",
      "with open('apikeys.txt', 'r') as keyFile:\n",
      "    st = keyFile.readline()\n",
      "    while st != \"\":\n",
      "        # Must remove the \\n\n",
      "        apikeys += [st[:-1]]\n",
      "        st = keyFile.readline()"
     ],
     "language": "python",
     "metadata": {},
     "outputs": [],
     "prompt_number": 2
    },
    {
     "cell_type": "code",
     "collapsed": false,
     "input": [
      "apikeys[:5]"
     ],
     "language": "python",
     "metadata": {},
     "outputs": [
      {
       "metadata": {},
       "output_type": "pyout",
       "prompt_number": 3,
       "text": [
        "['dfb96160456ad89c4130604490c8bb',\n",
        " 'b32cd0948bbe026a5653d8cecdac01',\n",
        " 'b66374b7c6b7e194c59c1c44961499',\n",
        " 'dcb5459d5fb6c83af914b288651788',\n",
        " '412ed51c67c57de8e9054a32838933']"
       ]
      }
     ],
     "prompt_number": 3
    },
    {
     "cell_type": "code",
     "collapsed": false,
     "input": [
      "# lyrics&music API\n",
      "song_base = \"http://api.lyricsnmusic.com/songs?api_key=\"\n",
      "counter = 0\n",
      "count = 0\n",
      "apikey = apikeys[28]\n",
      "\n",
      "def stripPuncEscape(input_string):\n",
      "    \"\"\" Removes all escape sequences, replaces \\r\\n with \" \", and removes punctuation \"\"\"\n",
      "    delete = \"\"\n",
      "    i=1\n",
      "    while (i<0x20):\n",
      "        delete += chr(i)\n",
      "        i += 1\n",
      "    t = input_string.replace(\"\\r\\n\", \" \")\n",
      "    # If need ASCII encoding\n",
      "    #t = re.sub(u\"(\\u2018|\\u2019)\", \"'\", t)\n",
      "    t = t.translate(None, string.punctuation)\n",
      "    t = t.translate(None, delete)\n",
      "    return t\n",
      "\n",
      "# Go with the first entry\n",
      "def findSongAPI(track, artist):\n",
      "    artist = urllib2.quote(artist.encode(\"utf-8\"))\n",
      "    track = urllib2.quote(track.encode(\"utf-8\"))\n",
      "    song_url = song_base+apikey+\"&artist=\"+artist+\"&track=\"+track\n",
      "    r = requests.get(song_url)\n",
      "    lyric_url = None\n",
      "    lyrics = None\n",
      "\n",
      "    try: \n",
      "        lyric_url = r.json()[0]['url']\n",
      "        song = requests.get(lyric_url.encode())\n",
      "        soup = BeautifulSoup(song.text)\n",
      "        soup = soup.find('pre', attrs={'itemprop':'description'})\n",
      "        lyrics = soup.text.encode('utf-8')\n",
      "        lyrics = stripPuncEscape(lyrics)\n",
      "        return (lyric_url, lyrics)\n",
      "    except AttributeError as e:\n",
      "        print \"AttributeError\", e, track, artist\n",
      "        return (None, None)\n",
      "    except ValueError as e:\n",
      "        print \"ValueError\", e, track, artist\n",
      "        return (None, None)\n",
      "    except IndexError as e: \n",
      "        print \"IndexError\", e, track, artist\n",
      "        return (None, None)\n",
      "    except Exception as e: \n",
      "        print \"Exception\", e, track, artist\n",
      "        return (None, None)"
     ],
     "language": "python",
     "metadata": {},
     "outputs": [
      {
       "output_type": "stream",
       "stream": "stdout",
       "text": [
        "\n"
       ]
      }
     ],
     "prompt_number": 106
    },
    {
     "cell_type": "markdown",
     "metadata": {},
     "source": [
      "Start by pulling in the song and artist data from the csv file"
     ]
    },
    {
     "cell_type": "code",
     "collapsed": false,
     "input": [
      "cols = [\"artist\", \"Track\", \"URL\", \"Lyrics\"]\n",
      "songs = pd.DataFrame(columns = cols)\n",
      "start = datetime.datetime.now()\n",
      "count = 0\n",
      "\n",
      "with open('BillboardMusic.csv', 'rb') as csvfile:\n",
      "    reader = csv.DictReader(csvfile)\n",
      "    #print reader.fieldnames\n",
      "    for row in reader:\n",
      "        artist = row['Artist']\n",
      "        track = row['Track']\n",
      "        url, lyrics = findSongAPI(track, artist)\n",
      "        artist = artist.replace(\",\", \"\")\n",
      "        track = track.replace(\",\", \"\")\n",
      "        curr = pd.Series([artist, track, url, lyrics], index=cols)\n",
      "        songs = songs.append(curr, ignore_index=True)\n",
      "        count += 1\n",
      "        time.sleep(0.1)\n",
      "        #print count\n",
      "        #if count >= 1000:\n",
      "        #    break\n",
      "\n",
      "stop = datetime.datetime.now()\n",
      "print stop - start\n",
      "songs.to_csv(\"lyric_out.csv\")"
     ],
     "language": "python",
     "metadata": {},
     "outputs": []
    },
    {
     "cell_type": "code",
     "collapsed": false,
     "input": [
      "# Test String Cleaning\n",
      "\n",
      "s = \"GIRL how I love. ALL, That's love:\\r\\nEre\"\n",
      "s = stripPuncEscape(s)\n",
      "print s"
     ],
     "language": "python",
     "metadata": {},
     "outputs": [
      {
       "output_type": "stream",
       "stream": "stdout",
       "text": [
        "GIRL how I love ALL Thats love Ere\n"
       ]
      }
     ],
     "prompt_number": 73
    },
    {
     "cell_type": "code",
     "collapsed": false,
     "input": [
      "stop = datetime.datetime.now()\n",
      "\n",
      "print count\n",
      "print stop - start\n",
      "\n",
      "songs.to_csv(\"lyric_out.csv\")"
     ],
     "language": "python",
     "metadata": {},
     "outputs": [
      {
       "output_type": "stream",
       "stream": "stdout",
       "text": [
        "0:33:13.974426\n"
       ]
      }
     ],
     "prompt_number": 109
    },
    {
     "cell_type": "code",
     "collapsed": false,
     "input": [],
     "language": "python",
     "metadata": {},
     "outputs": []
    }
   ],
   "metadata": {}
  }
 ]
}