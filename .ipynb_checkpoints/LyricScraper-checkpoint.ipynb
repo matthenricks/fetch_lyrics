{
 "metadata": {
  "name": "",
  "signature": "sha256:4ac0845bfa65f0aa15e86eac38e751ca2d30bb627bab68be8070076ce473d5b7"
 },
 "nbformat": 3,
 "nbformat_minor": 0,
 "worksheets": [
  {
   "cells": [
    {
     "cell_type": "markdown",
     "metadata": {},
     "source": [
      "Include all the imports"
     ]
    },
    {
     "cell_type": "code",
     "collapsed": false,
     "input": [
      "import numpy\n",
      "import pandas as pd\n",
      "import requests\n",
      "import time\n",
      "import json\n",
      "import csv\n",
      "import datetime\n",
      "import string \n",
      "import re\n",
      "import urllib2\n",
      "from BeautifulSoup import BeautifulSoup"
     ],
     "language": "python",
     "metadata": {},
     "outputs": [],
     "prompt_number": 1
    },
    {
     "cell_type": "markdown",
     "metadata": {},
     "source": [
      "Auxillary Function used to obtain a lot of API keys for the lyric engine"
     ]
    },
    {
     "cell_type": "code",
     "collapsed": false,
     "input": [
      "badURL = []\n",
      "apikeys = []\n",
      "\n",
      "for ind in range(1,100):\n",
      "    uri = \"http://www.lyricsnmusic.com/api_keys/\"+str(ind+1000)\n",
      "    r = requests.get(uri)\n",
      "    if (r.status_code == 200):\n",
      "        soup = BeautifulSoup(r.text)\n",
      "        node = soup.find('div', attrs={'class':'grid_6 push_1'})\n",
      "        node = node.find('p').text\n",
      "        apikeys += [str.strip(str(node[15:]))]\n",
      "    else:\n",
      "        badURL += [uri]\n",
      "    time.sleep(0.5)\n",
      "\n",
      "print \"\\nRESULTS\"\n",
      "print \"apikeys\", len(apikeys)\n",
      "print \"badURL\", len(badURL)"
     ],
     "language": "python",
     "metadata": {},
     "outputs": [
      {
       "output_type": "stream",
       "stream": "stdout",
       "text": [
        "\n",
        "RESULTS\n",
        "999\n",
        "0\n"
       ]
      }
     ],
     "prompt_number": 5
    },
    {
     "cell_type": "code",
     "collapsed": false,
     "input": [
      "with open('apikeys.txt', 'a') as keyFile:\n",
      "    for key in apikeys:\n",
      "        keyFile.write(key)\n",
      "        keyFile.write(\"\\n\")"
     ],
     "language": "python",
     "metadata": {},
     "outputs": [],
     "prompt_number": 8
    },
    {
     "cell_type": "code",
     "collapsed": false,
     "input": [
      "apikeys = []\n",
      "\n",
      "with open('apikeys.txt', 'r') as keyFile:\n",
      "    st = keyFile.readline()\n",
      "    while st != \"\":\n",
      "        # Must remove the \\n\n",
      "        apikeys += [st[:-1]]\n",
      "        st = keyFile.readline()"
     ],
     "language": "python",
     "metadata": {},
     "outputs": [],
     "prompt_number": 2
    },
    {
     "cell_type": "code",
     "collapsed": false,
     "input": [
      "apikeys[:5]"
     ],
     "language": "python",
     "metadata": {},
     "outputs": [
      {
       "metadata": {},
       "output_type": "pyout",
       "prompt_number": 3,
       "text": [
        "['dfb96160456ad89c4130604490c8bb',\n",
        " 'b32cd0948bbe026a5653d8cecdac01',\n",
        " 'b66374b7c6b7e194c59c1c44961499',\n",
        " 'dcb5459d5fb6c83af914b288651788',\n",
        " '412ed51c67c57de8e9054a32838933']"
       ]
      }
     ],
     "prompt_number": 3
    },
    {
     "cell_type": "code",
     "collapsed": false,
     "input": [
      "# lyrics&music API\n",
      "song_base = \"http://api.lyricsnmusic.com/songs?api_key=\"\n",
      "apikey = apikeys[28]\n",
      "\n",
      "def stripPuncEscape(input_string):\n",
      "    \"\"\" Removes all escape sequences, replaces \\r\\n with \" \", and removes punctuation \"\"\"\n",
      "    delete = \"\"\n",
      "    i=1\n",
      "    while (i<0x20):\n",
      "        delete += chr(i)\n",
      "        i += 1\n",
      "    t = input_string.replace(\"\\r\\n\", \" \")\n",
      "    # If need ASCII encoding\n",
      "    #t = re.sub(u\"(\\u2018|\\u2019)\", \"'\", t)\n",
      "    t = t.translate(None, string.punctuation)\n",
      "    t = t.translate(None, delete)\n",
      "    return t\n",
      "\n",
      "# Go with the first entry\n",
      "def findSongAPI(artist, track):\n",
      "    artist = urllib2.quote(artist.encode(\"utf-8\"))\n",
      "    track = urllib2.quote(track.encode(\"utf-8\"))\n",
      "    song_url = song_base+apikey+\"&artist=\"+artist+\"&track=\"+track\n",
      "    r = requests.get(song_url)\n",
      "    lyric_url = None\n",
      "    lyrics = None\n",
      "\n",
      "    try: \n",
      "        lyric_url = r.json()[0]['url']\n",
      "        song = requests.get(lyric_url.encode())\n",
      "        soup = BeautifulSoup(song.text)\n",
      "        soup = soup.find('pre', attrs={'itemprop':'description'})\n",
      "        lyrics = soup.text.encode('utf-8')\n",
      "        lyrics = stripPuncEscape(lyrics)\n",
      "        return (lyric_url, lyrics)\n",
      "    except AttributeError as e:\n",
      "        #curr = pd.Series([type(e), e, artist, track], index=error_cols)\n",
      "        #errors = errors.append(curr, ignore_index=True)\n",
      "        print e, artist, track\n",
      "        return (None, None)\n",
      "    except ValueError as e:\n",
      "        #curr = pd.Series([type(e), e, artist, track], index=error_cols)\n",
      "        #errors = errors.append(curr, ignore_index=True)\n",
      "        print e, artist, track\n",
      "        return (None, None)\n",
      "    except IndexError as e: \n",
      "        #curr = pd.Series([type(e), e, artist, track], index=error_cols)\n",
      "        #errors = errors.append(curr, ignore_index=True)\n",
      "        print e, artist, track\n",
      "        return (None, None)\n",
      "    except ConnectionError as e: \n",
      "        #curr = pd.Series([type(e), e, artist, track], index=error_cols)\n",
      "        #errors = errors.append(curr, ignore_index=True)\n",
      "        print e, artist, track\n",
      "        return (None, None)\n",
      "    except UnicodeDecodeError as e: \n",
      "        #curr = pd.Series([type(e), e, artist, track], index=error_cols)\n",
      "        #errors = errors.append(curr, ignore_index=True)\n",
      "        print e, artist, track\n",
      "        return (None, None)\n",
      "    except UnboundLocalError as e: \n",
      "        #curr = pd.Series([type(e), e, artist, track], index=error_cols)\n",
      "        #errors = errors.append(curr, ignore_index=True)\n",
      "        print e, artist, track\n",
      "        return (None, None)\n",
      "    except Exception as e: \n",
      "        #curr = pd.Series([type(e), e, artist, track], index=error_cols)\n",
      "        #errors = errors.append(curr, ignore_index=True)\n",
      "        print e, artist, track\n",
      "        return (None, None)"
     ],
     "language": "python",
     "metadata": {},
     "outputs": [],
     "prompt_number": 69
    },
    {
     "cell_type": "markdown",
     "metadata": {},
     "source": [
      "Start by pulling in the song and artist data from the csv file"
     ]
    },
    {
     "cell_type": "code",
     "collapsed": false,
     "input": [
      "# Intialize DataFrames\n",
      "song_cols = [\"Index\", \"Artist\", \"Track\", \"URL\", \"Lyrics\"]\n",
      "songs = pd.DataFrame(columns = song_cols)\n",
      "\n",
      "#error_cols = [\"Error\", \"Message\", \"Artist\", \"Track\"]\n",
      "#errors = pd.DataFrame(columns = error_cols)\n",
      "\n",
      "start = datetime.datetime.now()\n",
      "index = 0\n",
      "skip = 190\n",
      "\n",
      "with open('BillboardMusic.csv', 'rb') as csvfile:\n",
      "    reader = csv.DictReader(csvfile)\n",
      "    #print reader.fieldnames\n",
      "\n",
      "    for row in reader:\n",
      "        if index < skip: \n",
      "            index += 1\n",
      "        else: \n",
      "            artist = row['Artist']\n",
      "            track = row['Track']\n",
      "            url, lyrics = findSongAPI(artist, track)\n",
      "            artist = artist.replace(\",\", \"\")\n",
      "            track = track.replace(\",\", \"\")\n",
      "            curr = pd.Series([index, artist, track, url, lyrics], index=song_cols)\n",
      "            songs = songs.append(curr, ignore_index=True)\n",
      "            print index\n",
      "            index += 1\n",
      "            time.sleep(0.1)\n"
     ],
     "language": "python",
     "metadata": {},
     "outputs": [
      {
       "output_type": "stream",
       "stream": "stdout",
       "text": [
        "190\n",
        "191"
       ]
      },
      {
       "output_type": "stream",
       "stream": "stdout",
       "text": [
        "\n",
        "'NoneType' object has no attribute 'text'"
       ]
      },
      {
       "output_type": "stream",
       "stream": "stdout",
       "text": [
        " Nicki%20Minaj Pills%20N%20Potions\n",
        "192\n",
        "list index out of range"
       ]
      },
      {
       "output_type": "stream",
       "stream": "stdout",
       "text": [
        " Christina%20Grimmie Somebody%20That%20I%20Used%20To%20Know\n",
        "193\n",
        "list index out of range"
       ]
      },
      {
       "output_type": "stream",
       "stream": "stdout",
       "text": [
        " Christina%20Grimmie Can%27t%20Help%20Falling%20In%20Love\n",
        "194\n",
        "195"
       ]
      },
      {
       "output_type": "stream",
       "stream": "stdout",
       "text": [
        "\n",
        "'NoneType' object has no attribute 'text'"
       ]
      },
      {
       "output_type": "stream",
       "stream": "stdout",
       "text": [
        " Sam%20Smith Leave%20Your%20Lover\n",
        "196\n",
        "197"
       ]
      },
      {
       "output_type": "stream",
       "stream": "stdout",
       "text": [
        "\n",
        "198"
       ]
      },
      {
       "output_type": "stream",
       "stream": "stdout",
       "text": [
        "\n",
        "199"
       ]
      },
      {
       "output_type": "stream",
       "stream": "stdout",
       "text": [
        "\n",
        "200"
       ]
      },
      {
       "output_type": "stream",
       "stream": "stdout",
       "text": [
        "\n",
        "201"
       ]
      },
      {
       "output_type": "stream",
       "stream": "stdout",
       "text": [
        "\n",
        "202"
       ]
      },
      {
       "output_type": "stream",
       "stream": "stdout",
       "text": [
        "\n",
        "203"
       ]
      },
      {
       "output_type": "stream",
       "stream": "stdout",
       "text": [
        "\n",
        "204"
       ]
      },
      {
       "output_type": "stream",
       "stream": "stdout",
       "text": [
        "\n",
        "205"
       ]
      },
      {
       "output_type": "stream",
       "stream": "stdout",
       "text": [
        "\n",
        "206"
       ]
      },
      {
       "output_type": "stream",
       "stream": "stdout",
       "text": [
        "\n",
        "207"
       ]
      },
      {
       "output_type": "stream",
       "stream": "stdout",
       "text": [
        "\n",
        "208"
       ]
      },
      {
       "output_type": "stream",
       "stream": "stdout",
       "text": [
        "\n",
        "209"
       ]
      },
      {
       "output_type": "stream",
       "stream": "stdout",
       "text": [
        "\n",
        "210"
       ]
      },
      {
       "output_type": "stream",
       "stream": "stdout",
       "text": [
        "\n",
        "list index out of range"
       ]
      },
      {
       "output_type": "stream",
       "stream": "stdout",
       "text": [
        " Becky%20G Shower\n",
        "211\n",
        "212"
       ]
      },
      {
       "output_type": "stream",
       "stream": "stdout",
       "text": [
        "\n",
        "213"
       ]
      },
      {
       "output_type": "stream",
       "stream": "stdout",
       "text": [
        "\n",
        "214"
       ]
      },
      {
       "output_type": "stream",
       "stream": "stdout",
       "text": [
        "\n",
        "list index out of range"
       ]
      },
      {
       "output_type": "stream",
       "stream": "stdout",
       "text": [
        " AJR I%27m%20Ready\n",
        "215\n",
        "216"
       ]
      },
      {
       "output_type": "stream",
       "stream": "stdout",
       "text": [
        "\n",
        "217"
       ]
      },
      {
       "output_type": "stream",
       "stream": "stdout",
       "text": [
        "\n",
        "218"
       ]
      },
      {
       "output_type": "stream",
       "stream": "stdout",
       "text": [
        "\n",
        "219"
       ]
      },
      {
       "output_type": "stream",
       "stream": "stdout",
       "text": [
        "\n",
        "220"
       ]
      },
      {
       "output_type": "stream",
       "stream": "stdout",
       "text": [
        "\n",
        "221"
       ]
      },
      {
       "output_type": "stream",
       "stream": "stdout",
       "text": [
        "\n",
        "222"
       ]
      },
      {
       "output_type": "stream",
       "stream": "stdout",
       "text": [
        "\n",
        "223"
       ]
      },
      {
       "output_type": "stream",
       "stream": "stdout",
       "text": [
        "\n",
        "224"
       ]
      },
      {
       "output_type": "stream",
       "stream": "stdout",
       "text": [
        "\n",
        "225"
       ]
      },
      {
       "output_type": "stream",
       "stream": "stdout",
       "text": [
        "\n",
        "226"
       ]
      },
      {
       "output_type": "stream",
       "stream": "stdout",
       "text": [
        "\n",
        "227"
       ]
      },
      {
       "output_type": "stream",
       "stream": "stdout",
       "text": [
        "\n",
        "228"
       ]
      },
      {
       "output_type": "stream",
       "stream": "stdout",
       "text": [
        "\n",
        "229"
       ]
      },
      {
       "output_type": "stream",
       "stream": "stdout",
       "text": [
        "\n",
        "230"
       ]
      },
      {
       "output_type": "stream",
       "stream": "stdout",
       "text": [
        "\n",
        "231"
       ]
      },
      {
       "output_type": "stream",
       "stream": "stdout",
       "text": [
        "\n",
        "'NoneType' object has no attribute 'text'"
       ]
      },
      {
       "output_type": "stream",
       "stream": "stdout",
       "text": [
        " Robin%20Thicke Get%20Her%20Back\n",
        "232\n",
        "233"
       ]
      },
      {
       "output_type": "stream",
       "stream": "stdout",
       "text": [
        "\n",
        "234"
       ]
      },
      {
       "output_type": "stream",
       "stream": "stdout",
       "text": [
        "\n",
        "235"
       ]
      },
      {
       "output_type": "stream",
       "stream": "stdout",
       "text": [
        "\n",
        "236"
       ]
      },
      {
       "output_type": "stream",
       "stream": "stdout",
       "text": [
        "\n",
        "237"
       ]
      },
      {
       "output_type": "stream",
       "stream": "stdout",
       "text": [
        "\n",
        "238"
       ]
      },
      {
       "output_type": "stream",
       "stream": "stdout",
       "text": [
        "\n",
        "239"
       ]
      },
      {
       "output_type": "stream",
       "stream": "stdout",
       "text": [
        "\n",
        "240"
       ]
      },
      {
       "output_type": "stream",
       "stream": "stdout",
       "text": [
        "\n",
        "list index out of range"
       ]
      },
      {
       "output_type": "stream",
       "stream": "stdout",
       "text": [
        " Busta%20Rhymes Calm%20Down\n",
        "241\n",
        "242"
       ]
      },
      {
       "output_type": "stream",
       "stream": "stdout",
       "text": [
        "\n",
        "243"
       ]
      },
      {
       "output_type": "stream",
       "stream": "stdout",
       "text": [
        "\n",
        "'NoneType' object has no attribute 'text'"
       ]
      },
      {
       "output_type": "stream",
       "stream": "stdout",
       "text": [
        " Florida%20Georgia%20Line Dirt\n",
        "244\n",
        "245"
       ]
      },
      {
       "output_type": "stream",
       "stream": "stdout",
       "text": [
        "\n",
        "246"
       ]
      },
      {
       "output_type": "stream",
       "stream": "stdout",
       "text": [
        "\n",
        "247"
       ]
      },
      {
       "output_type": "stream",
       "stream": "stdout",
       "text": [
        "\n",
        "248"
       ]
      },
      {
       "output_type": "stream",
       "stream": "stdout",
       "text": [
        "\n",
        "249"
       ]
      },
      {
       "output_type": "stream",
       "stream": "stdout",
       "text": [
        "\n",
        "250"
       ]
      },
      {
       "output_type": "stream",
       "stream": "stdout",
       "text": [
        "\n",
        "251"
       ]
      },
      {
       "output_type": "stream",
       "stream": "stdout",
       "text": [
        "\n",
        "252"
       ]
      },
      {
       "output_type": "stream",
       "stream": "stdout",
       "text": [
        "\n",
        "253"
       ]
      },
      {
       "output_type": "stream",
       "stream": "stdout",
       "text": [
        "\n",
        "'NoneType' object has no attribute 'text'"
       ]
      },
      {
       "output_type": "stream",
       "stream": "stdout",
       "text": [
        " Weird%20Al%20Yankovic Word%20Crimes\n",
        "254\n",
        "255"
       ]
      },
      {
       "output_type": "stream",
       "stream": "stdout",
       "text": [
        "\n",
        "256"
       ]
      },
      {
       "output_type": "stream",
       "stream": "stdout",
       "text": [
        "\n",
        "257"
       ]
      },
      {
       "output_type": "stream",
       "stream": "stdout",
       "text": [
        "\n",
        "'NoneType' object has no attribute 'text'"
       ]
      },
      {
       "output_type": "stream",
       "stream": "stdout",
       "text": [
        " Jason%20Aldean Burnin%27%20It%20Down\n",
        "258\n",
        "259"
       ]
      },
      {
       "output_type": "stream",
       "stream": "stdout",
       "text": [
        "\n",
        "'NoneType' object has no attribute 'text'"
       ]
      },
      {
       "output_type": "stream",
       "stream": "stdout",
       "text": [
        " Troye%20Sivan Happy%20Little%20Pill\n",
        "260\n",
        "261"
       ]
      },
      {
       "output_type": "stream",
       "stream": "stdout",
       "text": [
        "\n",
        "262"
       ]
      },
      {
       "output_type": "stream",
       "stream": "stdout",
       "text": [
        "\n",
        "263"
       ]
      },
      {
       "output_type": "stream",
       "stream": "stdout",
       "text": [
        "\n",
        "'NoneType' object has no attribute 'text'"
       ]
      },
      {
       "output_type": "stream",
       "stream": "stdout",
       "text": [
        " Maddie%20%26%20Tae Girl%20In%20A%20Country%20Song\n",
        "264\n",
        "list index out of range"
       ]
      },
      {
       "output_type": "stream",
       "stream": "stdout",
       "text": [
        " Hilary%20Duff Chasing%20The%20Sun\n",
        "265\n",
        "266"
       ]
      },
      {
       "output_type": "stream",
       "stream": "stdout",
       "text": [
        "\n",
        "list index out of range"
       ]
      },
      {
       "output_type": "stream",
       "stream": "stdout",
       "text": [
        " Bobby%20Shmurda Hot%20Boy\n",
        "267\n",
        "268"
       ]
      },
      {
       "output_type": "stream",
       "stream": "stdout",
       "text": [
        "\n",
        "269"
       ]
      },
      {
       "output_type": "stream",
       "stream": "stdout",
       "text": [
        "\n",
        "270"
       ]
      },
      {
       "output_type": "stream",
       "stream": "stdout",
       "text": [
        "\n",
        "list index out of range"
       ]
      },
      {
       "output_type": "stream",
       "stream": "stdout",
       "text": [
        " Jack%20%26%20Jack Wild%20Life\n",
        "271\n",
        "272"
       ]
      },
      {
       "output_type": "stream",
       "stream": "stdout",
       "text": [
        "\n",
        "273"
       ]
      },
      {
       "output_type": "stream",
       "stream": "stdout",
       "text": [
        "\n",
        "274"
       ]
      },
      {
       "output_type": "stream",
       "stream": "stdout",
       "text": [
        "\n",
        "275"
       ]
      },
      {
       "output_type": "stream",
       "stream": "stdout",
       "text": [
        "\n",
        "list index out of range"
       ]
      },
      {
       "output_type": "stream",
       "stream": "stdout",
       "text": [
        " Juicy%20J Shell%20Shocked\n",
        "276\n",
        "277"
       ]
      },
      {
       "output_type": "stream",
       "stream": "stdout",
       "text": [
        "\n",
        "'NoneType' object has no attribute 'text'"
       ]
      },
      {
       "output_type": "stream",
       "stream": "stdout",
       "text": [
        " Hozier Take%20Me%20To%20Church\n",
        "278\n",
        "279"
       ]
      },
      {
       "output_type": "stream",
       "stream": "stdout",
       "text": [
        "\n",
        "280"
       ]
      },
      {
       "output_type": "stream",
       "stream": "stdout",
       "text": [
        "\n",
        "281"
       ]
      },
      {
       "output_type": "stream",
       "stream": "stdout",
       "text": [
        "\n",
        "282"
       ]
      },
      {
       "output_type": "stream",
       "stream": "stdout",
       "text": [
        "\n",
        "283"
       ]
      },
      {
       "output_type": "stream",
       "stream": "stdout",
       "text": [
        "\n",
        "284"
       ]
      },
      {
       "output_type": "stream",
       "stream": "stdout",
       "text": [
        "\n",
        "285"
       ]
      },
      {
       "output_type": "stream",
       "stream": "stdout",
       "text": [
        "\n",
        "286"
       ]
      },
      {
       "output_type": "stream",
       "stream": "stdout",
       "text": [
        "\n",
        "287"
       ]
      },
      {
       "output_type": "stream",
       "stream": "stdout",
       "text": [
        "\n",
        "288"
       ]
      },
      {
       "output_type": "stream",
       "stream": "stdout",
       "text": [
        "\n",
        "list index out of range"
       ]
      },
      {
       "output_type": "stream",
       "stream": "stdout",
       "text": [
        " Usher She%20Came%20To%20Give%20It%20To%20You\n",
        "289\n",
        "290"
       ]
      },
      {
       "output_type": "stream",
       "stream": "stdout",
       "text": [
        "\n",
        "list index out of range"
       ]
      },
      {
       "output_type": "stream",
       "stream": "stdout",
       "text": [
        " TeeFLii 24%20Hours\n",
        "291\n",
        "292"
       ]
      },
      {
       "output_type": "stream",
       "stream": "stdout",
       "text": [
        "\n",
        "293"
       ]
      },
      {
       "output_type": "stream",
       "stream": "stdout",
       "text": [
        "\n",
        "294"
       ]
      },
      {
       "output_type": "stream",
       "stream": "stdout",
       "text": [
        "\n",
        "295"
       ]
      },
      {
       "output_type": "stream",
       "stream": "stdout",
       "text": [
        "\n",
        "296"
       ]
      },
      {
       "output_type": "stream",
       "stream": "stdout",
       "text": [
        "\n",
        "297"
       ]
      },
      {
       "output_type": "stream",
       "stream": "stdout",
       "text": [
        "\n",
        "298"
       ]
      }
     ]
    },
    {
     "cell_type": "code",
     "collapsed": false,
     "input": [
      "#stop = datetime.datetime.now()\n",
      "#print stop - start\n",
      "#errors.to_csv(\"errors.csv\", index=False)\n",
      "#songs.to_csv(\"songs.csv\", index=False)"
     ],
     "language": "python",
     "metadata": {},
     "outputs": [],
     "prompt_number": 92
    },
    {
     "cell_type": "code",
     "collapsed": false,
     "input": [
      "e = ValueError(\"Value\")\n",
      "curr = pd.Series([type(e), e, \"\", \"\"], index=error_cols)\n",
      "errors = errors.append(curr, ignore_index=True)"
     ],
     "language": "python",
     "metadata": {},
     "outputs": [],
     "prompt_number": 6
    },
    {
     "cell_type": "code",
     "collapsed": false,
     "input": [
      "songs = songs.drop(songs.index[[0,1,2]])"
     ],
     "language": "python",
     "metadata": {},
     "outputs": [],
     "prompt_number": 83
    },
    {
     "cell_type": "code",
     "collapsed": false,
     "input": [
      "with open('songs.csv', 'a') as f:\n",
      "    songs.to_csv(f, header=False, index=False)"
     ],
     "language": "python",
     "metadata": {},
     "outputs": [],
     "prompt_number": 95
    },
    {
     "cell_type": "code",
     "collapsed": false,
     "input": [
      "songs"
     ],
     "language": "python",
     "metadata": {},
     "outputs": [
      {
       "html": [
        "<div style=\"max-height:1000px;max-width:1500px;overflow:auto;\">\n",
        "<table border=\"1\" class=\"dataframe\">\n",
        "  <thead>\n",
        "    <tr style=\"text-align: right;\">\n",
        "      <th></th>\n",
        "      <th>Index</th>\n",
        "      <th>Artist</th>\n",
        "      <th>Track</th>\n",
        "      <th>URL</th>\n",
        "      <th>Lyrics</th>\n",
        "    </tr>\n",
        "  </thead>\n",
        "  <tbody>\n",
        "    <tr>\n",
        "      <th>0</th>\n",
        "      <td> 190</td>\n",
        "      <td> Miranda Lambert</td>\n",
        "      <td> Somethin' Bad</td>\n",
        "      <td> http://www.lyricsnmusic.com/miranda-lambert-an...</td>\n",
        "      <td> Stand on the box stomp your feet get clapping ...</td>\n",
        "    </tr>\n",
        "  </tbody>\n",
        "</table>\n",
        "</div>"
       ],
       "metadata": {},
       "output_type": "pyout",
       "prompt_number": 98,
       "text": [
        "   Index           Artist          Track  \\\n",
        "0    190  Miranda Lambert  Somethin' Bad   \n",
        "\n",
        "                                                 URL  \\\n",
        "0  http://www.lyricsnmusic.com/miranda-lambert-an...   \n",
        "\n",
        "                                              Lyrics  \n",
        "0  Stand on the box stomp your feet get clapping ...  "
       ]
      }
     ],
     "prompt_number": 98
    },
    {
     "cell_type": "code",
     "collapsed": false,
     "input": [],
     "language": "python",
     "metadata": {},
     "outputs": []
    }
   ],
   "metadata": {}
  }
 ]
}