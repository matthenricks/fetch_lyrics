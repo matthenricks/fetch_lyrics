{
 "metadata": {
  "name": "",
  "signature": "sha256:0a6e250aadf7d26a7e276e23c66f23af43cbac5aa332d9fd02be5ad630a20d82"
 },
 "nbformat": 3,
 "nbformat_minor": 0,
 "worksheets": [
  {
   "cells": [
    {
     "cell_type": "heading",
     "level": 1,
     "metadata": {},
     "source": [
      "Include all the imports"
     ]
    },
    {
     "cell_type": "code",
     "collapsed": false,
     "input": [
      "import numpy\n",
      "import pandas as pd\n",
      "import requests\n",
      "import time\n",
      "import json\n",
      "import csv\n",
      "import datetime\n",
      "import string \n",
      "import re\n",
      "import urllib2\n",
      "import pymongo\n",
      "from BeautifulSoup import BeautifulSoup\n",
      "from requests import ConnectionError"
     ],
     "language": "python",
     "metadata": {},
     "outputs": [],
     "prompt_number": 38
    },
    {
     "cell_type": "heading",
     "level": 1,
     "metadata": {},
     "source": [
      "Generate API Keys"
     ]
    },
    {
     "cell_type": "code",
     "collapsed": false,
     "input": [
      "badURL = []\n",
      "apikeys = []\n",
      "\n",
      "for ind in range(1,100):\n",
      "    uri = \"http://www.lyricsnmusic.com/api_keys/\"+str(ind+1000)\n",
      "    r = requests.get(uri)\n",
      "    if (r.status_code == 200):\n",
      "        soup = BeautifulSoup(r.text)\n",
      "        node = soup.find('div', attrs={'class':'grid_6 push_1'})\n",
      "        node = node.find('p').text\n",
      "        apikeys += [str.strip(str(node[15:]))]\n",
      "    else:\n",
      "        badURL += [uri]\n",
      "    time.sleep(0.5)\n",
      "\n",
      "print \"\\nRESULTS\"\n",
      "print \"apikeys\", len(apikeys)\n",
      "print \"badURL\", len(badURL)\n",
      "\n",
      "with open('apikeys.txt', 'a') as keyFile:\n",
      "    for key in apikeys:\n",
      "        keyFile.write(key)\n",
      "        keyFile.write(\"\\n\")"
     ],
     "language": "python",
     "metadata": {},
     "outputs": [
      {
       "output_type": "stream",
       "stream": "stdout",
       "text": [
        "\n",
        "RESULTS\n",
        "apikeys 0\n",
        "badURL 0\n"
       ]
      }
     ],
     "prompt_number": 41
    },
    {
     "cell_type": "heading",
     "level": 1,
     "metadata": {},
     "source": [
      "Get API Key"
     ]
    },
    {
     "cell_type": "code",
     "collapsed": false,
     "input": [
      "apikeys = []\n",
      "\n",
      "with open('apikeys.txt', 'r') as keyFile:\n",
      "    st = keyFile.readline()\n",
      "    while st != \"\":\n",
      "        # Must remove the \\n\n",
      "        apikeys += [st[:-1]]\n",
      "        st = keyFile.readline()"
     ],
     "language": "python",
     "metadata": {},
     "outputs": [],
     "prompt_number": 42
    },
    {
     "cell_type": "code",
     "collapsed": false,
     "input": [
      "apikeys[:5]"
     ],
     "language": "python",
     "metadata": {},
     "outputs": [
      {
       "metadata": {},
       "output_type": "pyout",
       "prompt_number": 43,
       "text": [
        "['dfb96160456ad89c4130604490c8bb',\n",
        " 'b32cd0948bbe026a5653d8cecdac01',\n",
        " 'b66374b7c6b7e194c59c1c44961499',\n",
        " 'dcb5459d5fb6c83af914b288651788',\n",
        " '412ed51c67c57de8e9054a32838933']"
       ]
      }
     ],
     "prompt_number": 43
    },
    {
     "cell_type": "heading",
     "level": 1,
     "metadata": {},
     "source": [
      "Song and LyricError Class"
     ]
    },
    {
     "cell_type": "code",
     "collapsed": false,
     "input": [
      "# Intialize DataFrames\n",
      "\n",
      "from json import JSONEncoder \n",
      "\n",
      "class Song:\n",
      "    def __init__(self, index, artist, track, url, lyrics):\n",
      "        self.index = index\n",
      "        self.artist = artist\n",
      "        self.track = track\n",
      "        self.url = url\n",
      "        self.lyrics = lyrics\n",
      "    \n",
      "    def __str__(self): \n",
      "        result = \"Artist: \" + self.artist\n",
      "        result += \", Track: \" + self.track \n",
      "        result += \", URL: \" + self.url\n",
      "        return result \n",
      "    \n",
      "    def __repr__(self): \n",
      "        return self.__str__()\n",
      "    \n",
      "    def jsonable(self):\n",
      "        return self.__dict__\n",
      "\n",
      "class LyricError: \n",
      "    def __init__(self, index, artist, track, errorType, errorMessage):\n",
      "        self.index = index\n",
      "        self.artist = artist\n",
      "        self.track = track\n",
      "        self.errorType = errorType\n",
      "        self.errorMessage = errorMessage\n",
      "        \n",
      "    def __str__(self):\n",
      "        result = \"Artist: \" + self.artist\n",
      "        result += \", Track: \" + self.track \n",
      "        result += \", ErrorType: \" + self.errorType\n",
      "        result += \", Msg: \" + self.errorMessage\n",
      "        return result \n",
      "    \n",
      "    def __repr__(self): \n",
      "        return self.__str__()\n",
      "    \n",
      "    def jsonable(self):\n",
      "        return self.__dict__\n",
      "    \n",
      "def ComplexHandler(Obj):\n",
      "    if hasattr(Obj, 'jsonable'):\n",
      "        return Obj.jsonable()\n",
      "    else:\n",
      "        raise TypeError, 'Object of type %s with value of %s is not JSON serializable' % (type(Obj), repr(Obj))"
     ],
     "language": "python",
     "metadata": {},
     "outputs": [],
     "prompt_number": 44
    },
    {
     "cell_type": "markdown",
     "metadata": {},
     "source": [
      "Start by pulling in the song and artist data from the csv file"
     ]
    },
    {
     "cell_type": "code",
     "collapsed": false,
     "input": [
      "#songs = songs.drop(songs.index[[0,1,2]])"
     ],
     "language": "python",
     "metadata": {},
     "outputs": [],
     "prompt_number": 45
    },
    {
     "cell_type": "code",
     "collapsed": false,
     "input": [
      "#with open('songs.csv', 'a') as f:\n",
      "#    songs.to_csv(f, header=False, index=False)"
     ],
     "language": "python",
     "metadata": {},
     "outputs": [],
     "prompt_number": 46
    },
    {
     "cell_type": "heading",
     "level": 1,
     "metadata": {},
     "source": [
      "MongoDB Lyrics Store"
     ]
    },
    {
     "cell_type": "code",
     "collapsed": false,
     "input": [
      "# Database: lyrics\n",
      "# Collection: songs\n",
      "# Collection: errors\n",
      "\n",
      "from pymongo import MongoClient \n",
      "client = MongoClient('localhost', 27017)\n",
      "db = client.lyrics\n",
      "top_songs = db.songs\n",
      "errors = db.errors"
     ],
     "language": "python",
     "metadata": {},
     "outputs": [],
     "prompt_number": 47
    },
    {
     "cell_type": "code",
     "collapsed": false,
     "input": [
      "# Intialize DataFrames\n",
      "\n",
      "from json import JSONEncoder \n",
      "\n",
      "class Song:\n",
      "    def __init__(self, index, artist, track, url, lyrics):\n",
      "        self.index = index\n",
      "        self.artist = artist\n",
      "        self.track = track\n",
      "        self.url = url\n",
      "        self.lyrics = lyrics\n",
      "    \n",
      "    def __str__(self): \n",
      "        result = \"Artist: \" + self.artist\n",
      "        result += \", Track: \" + self.track \n",
      "        result += \", URL: \" + self.url\n",
      "        return result \n",
      "    \n",
      "    def __repr__(self): \n",
      "        return self.__str__()\n",
      "    \n",
      "    def jsonable(self):\n",
      "        return self.__dict__\n",
      "\n",
      "class LyricError: \n",
      "    def __init__(self, index, artist, track, errorType, errorMessage):\n",
      "        self.index = index\n",
      "        self.artist = artist\n",
      "        self.track = track\n",
      "        self.errorType = errorType\n",
      "        self.errorMessage = errorMessage\n",
      "        \n",
      "    def __str__(self):\n",
      "        result = \"Artist: \" + self.artist\n",
      "        result += \", Track: \" + self.track \n",
      "        result += \", ErrorType: \" + self.errorType\n",
      "        result += \", Msg: \" + self.errorMessage\n",
      "        return result \n",
      "    \n",
      "    def __repr__(self): \n",
      "        return self.__str__()\n",
      "    \n",
      "    def jsonable(self):\n",
      "        return self.__dict__\n",
      "    \n",
      "def ComplexHandler(Obj):\n",
      "    if hasattr(Obj, 'jsonable'):\n",
      "        return Obj.jsonable()\n",
      "    else:\n",
      "        raise TypeError, 'Object of type %s with value of %s is not JSON serializable' % (type(Obj), repr(Obj))"
     ],
     "language": "python",
     "metadata": {},
     "outputs": [],
     "prompt_number": 48
    },
    {
     "cell_type": "code",
     "collapsed": false,
     "input": [
      "# lyrics&music API\n",
      "song_base = \"http://api.lyricsnmusic.com/songs?api_key=\"\n",
      "apikey = apikeys[28]\n",
      "\n",
      "def stripPuncEscape(input_string):\n",
      "    \"\"\" Removes all escape sequences, replaces \\r\\n with \" \", and removes punctuation \"\"\"\n",
      "    delete = \"\"\n",
      "    i=1\n",
      "    while (i<0x20):\n",
      "        delete += chr(i)\n",
      "        i += 1\n",
      "    #t = input_string.replace(\"\\r\\n\", \" \")\n",
      "    # If need ASCII encoding\n",
      "    #t = re.sub(u\"(\\u2018|\\u2019)\", \"'\", t)\n",
      "    #t = t.translate(None, string.punctuation)\n",
      "    t = input_string.translate(None, delete)\n",
      "    t = re.sub(\"\\x85\", \"\", t)\n",
      "    t = re.sub(\"\\xe9\", \"e\", t)\n",
      "    return t\n",
      "\n",
      "# Go with the first entry\n",
      "def findSongAPI(index, artist, track):\n",
      "    try: \n",
      "        artist = urllib2.quote(artist.encode(\"utf-8\"))\n",
      "        track = urllib2.quote(track.encode(\"utf-8\"))\n",
      "        song_url = song_base+apikey+\"&artist=\"+artist+\"&track=\"+track\n",
      "        r = requests.get(song_url)\n",
      "        lyric_url = r.json()[0]['url']\n",
      "        song = requests.get(lyric_url.encode())\n",
      "        soup = BeautifulSoup(song.text)\n",
      "        soup = soup.find('pre', attrs={'itemprop':'description'})\n",
      "        lyrics = soup.text.encode('utf-8')\n",
      "        lyrics = lyrics.replace(\"\\r\\n\", \" \")\n",
      "        #lyrics = stripPuncEscape(lyrics)\n",
      "        return (lyric_url, lyrics)\n",
      "    except AttributeError as e:\n",
      "        curr_error = LyricError(index, artist, track, \"AttributeError\", str(e))\n",
      "        errors.insert(curr_error.__dict__)\n",
      "        return (None, None)\n",
      "    except ValueError as e:\n",
      "        curr_error = LyricError(index, artist, track, \"ValueError\", str(e))\n",
      "        errors.insert(curr_error.__dict__)\n",
      "        return (None, None)\n",
      "    except IndexError as e: \n",
      "        curr_error = LyricError(index, artist, track, \"IndexError\", str(e))\n",
      "        errors.insert(curr_error.__dict__)\n",
      "        return (None, None)\n",
      "    except ConnectionError as e: \n",
      "        curr_error = LyricError(index, artist, track, \"ConnectionError\", str(e))\n",
      "        errors.insert(curr_error.__dict__)\n",
      "        return (None, None)\n",
      "    except UnicodeDecodeError as e: \n",
      "        curr_error = LyricError(index, artist, track, \"UnicodeDecodeError\", str(e))\n",
      "        errors.insert(curr_error.__dict__)\n",
      "        return (None, None)\n",
      "    except UnboundLocalError as e: \n",
      "        curr_error = LyricError(index, artist, track, \"UnboundLocalError\", str(e))\n",
      "        errors.insert(curr_error.__dict__)\n",
      "        return (None, None)\n",
      "    except InvalidStringData as e: \n",
      "        curr_error = LyricError(index, artist, track, \"InvalidStringData\", str(e))\n",
      "        errors.insert(curr_error.__dict__)\n",
      "        return (None, None)\n",
      "    except Exception as e: \n",
      "        curr_error = LyricError(index, artist, track, \"Exception\", str(e))\n",
      "        errors.insert(curr_error.__dict__)\n",
      "        return (None, None)"
     ],
     "language": "python",
     "metadata": {},
     "outputs": [],
     "prompt_number": 53
    },
    {
     "cell_type": "code",
     "collapsed": false,
     "input": [
      "start = datetime.datetime.now()\n",
      "index = 0\n",
      "skip = 4211\n",
      "\n",
      "with open('BillboardMusic.csv', 'rb') as csvfile:\n",
      "    reader = csv.DictReader(csvfile)\n",
      "    #print reader.fieldnames\n",
      "\n",
      "    for row in reader:\n",
      "        if index < skip: \n",
      "            index += 1\n",
      "        else: \n",
      "            artist = stripPuncEscape(row['Artist'])\n",
      "            track = stripPuncEscape(row['Track'])\n",
      "            url, lyrics = findSongAPI(index, artist, track)\n",
      "            if lyrics != None:\n",
      "                artist = artist.replace(\",\", \"\")\n",
      "                track = track.replace(\",\", \"\")\n",
      "                curr_song = Song(index, artist, track, url, lyrics)\n",
      "                top_songs.insert(curr_song.__dict__)\n",
      "            #print index # So that you know it's still working\n",
      "            index += 1\n",
      "            #time.sleep(0.1)"
     ],
     "language": "python",
     "metadata": {},
     "outputs": [
      {
       "ename": "NameError",
       "evalue": "global name 'InvalidStringData' is not defined",
       "output_type": "pyerr",
       "traceback": [
        "\u001b[0;31m---------------------------------------------------------------------------\u001b[0m\n\u001b[0;31mNameError\u001b[0m                                 Traceback (most recent call last)",
        "\u001b[0;32m<ipython-input-54-1fb34b2cf632>\u001b[0m in \u001b[0;36m<module>\u001b[0;34m()\u001b[0m\n\u001b[1;32m     13\u001b[0m             \u001b[0martist\u001b[0m \u001b[0;34m=\u001b[0m \u001b[0mstripPuncEscape\u001b[0m\u001b[0;34m(\u001b[0m\u001b[0mrow\u001b[0m\u001b[0;34m[\u001b[0m\u001b[0;34m'Artist'\u001b[0m\u001b[0;34m]\u001b[0m\u001b[0;34m)\u001b[0m\u001b[0;34m\u001b[0m\u001b[0m\n\u001b[1;32m     14\u001b[0m             \u001b[0mtrack\u001b[0m \u001b[0;34m=\u001b[0m \u001b[0mstripPuncEscape\u001b[0m\u001b[0;34m(\u001b[0m\u001b[0mrow\u001b[0m\u001b[0;34m[\u001b[0m\u001b[0;34m'Track'\u001b[0m\u001b[0;34m]\u001b[0m\u001b[0;34m)\u001b[0m\u001b[0;34m\u001b[0m\u001b[0m\n\u001b[0;32m---> 15\u001b[0;31m             \u001b[0murl\u001b[0m\u001b[0;34m,\u001b[0m \u001b[0mlyrics\u001b[0m \u001b[0;34m=\u001b[0m \u001b[0mfindSongAPI\u001b[0m\u001b[0;34m(\u001b[0m\u001b[0mindex\u001b[0m\u001b[0;34m,\u001b[0m \u001b[0martist\u001b[0m\u001b[0;34m,\u001b[0m \u001b[0mtrack\u001b[0m\u001b[0;34m)\u001b[0m\u001b[0;34m\u001b[0m\u001b[0m\n\u001b[0m\u001b[1;32m     16\u001b[0m             \u001b[0;32mif\u001b[0m \u001b[0mlyrics\u001b[0m \u001b[0;34m!=\u001b[0m \u001b[0mNone\u001b[0m\u001b[0;34m:\u001b[0m\u001b[0;34m\u001b[0m\u001b[0m\n\u001b[1;32m     17\u001b[0m                 \u001b[0martist\u001b[0m \u001b[0;34m=\u001b[0m \u001b[0martist\u001b[0m\u001b[0;34m.\u001b[0m\u001b[0mreplace\u001b[0m\u001b[0;34m(\u001b[0m\u001b[0;34m\",\"\u001b[0m\u001b[0;34m,\u001b[0m \u001b[0;34m\"\"\u001b[0m\u001b[0;34m)\u001b[0m\u001b[0;34m\u001b[0m\u001b[0m\n",
        "\u001b[0;32m<ipython-input-53-a0ef6bcb0be1>\u001b[0m in \u001b[0;36mfindSongAPI\u001b[0;34m(index, artist, track)\u001b[0m\n\u001b[1;32m     58\u001b[0m         \u001b[0merrors\u001b[0m\u001b[0;34m.\u001b[0m\u001b[0minsert\u001b[0m\u001b[0;34m(\u001b[0m\u001b[0mcurr_error\u001b[0m\u001b[0;34m.\u001b[0m\u001b[0m__dict__\u001b[0m\u001b[0;34m)\u001b[0m\u001b[0;34m\u001b[0m\u001b[0m\n\u001b[1;32m     59\u001b[0m         \u001b[0;32mreturn\u001b[0m \u001b[0;34m(\u001b[0m\u001b[0mNone\u001b[0m\u001b[0;34m,\u001b[0m \u001b[0mNone\u001b[0m\u001b[0;34m)\u001b[0m\u001b[0;34m\u001b[0m\u001b[0m\n\u001b[0;32m---> 60\u001b[0;31m     \u001b[0;32mexcept\u001b[0m \u001b[0mInvalidStringData\u001b[0m \u001b[0;32mas\u001b[0m \u001b[0me\u001b[0m\u001b[0;34m:\u001b[0m\u001b[0;34m\u001b[0m\u001b[0m\n\u001b[0m\u001b[1;32m     61\u001b[0m         \u001b[0mcurr_error\u001b[0m \u001b[0;34m=\u001b[0m \u001b[0mLyricError\u001b[0m\u001b[0;34m(\u001b[0m\u001b[0mindex\u001b[0m\u001b[0;34m,\u001b[0m \u001b[0martist\u001b[0m\u001b[0;34m,\u001b[0m \u001b[0mtrack\u001b[0m\u001b[0;34m,\u001b[0m \u001b[0;34m\"InvalidStringData\"\u001b[0m\u001b[0;34m,\u001b[0m \u001b[0mstr\u001b[0m\u001b[0;34m(\u001b[0m\u001b[0me\u001b[0m\u001b[0;34m)\u001b[0m\u001b[0;34m)\u001b[0m\u001b[0;34m\u001b[0m\u001b[0m\n\u001b[1;32m     62\u001b[0m         \u001b[0merrors\u001b[0m\u001b[0;34m.\u001b[0m\u001b[0minsert\u001b[0m\u001b[0;34m(\u001b[0m\u001b[0mcurr_error\u001b[0m\u001b[0;34m.\u001b[0m\u001b[0m__dict__\u001b[0m\u001b[0;34m)\u001b[0m\u001b[0;34m\u001b[0m\u001b[0m\n",
        "\u001b[0;31mNameError\u001b[0m: global name 'InvalidStringData' is not defined"
       ]
      }
     ],
     "prompt_number": 54
    },
    {
     "cell_type": "code",
     "collapsed": false,
     "input": [
      "# Query from MongoDB\n",
      "# http://blog.juncoapps.com/2012/09/13/use-python-to-readwrite-to-a-mongodb-collection-convert-objects-to-and-from-dictionaries/\n",
      "lyric_str = \"\"\n",
      "for song in top_songs.find():\n",
      "    lyric_str += song['lyrics']"
     ],
     "language": "python",
     "metadata": {},
     "outputs": [],
     "prompt_number": 16
    },
    {
     "cell_type": "code",
     "collapsed": false,
     "input": [
      "from sklearn.feature_extraction.text import TfidfVectorizer\n",
      "vectorizer = TfidfVectorizer(min_df=1)\n",
      "vectorizer.fit_transform(lyric_str)"
     ],
     "language": "python",
     "metadata": {},
     "outputs": [
      {
       "ename": "ValueError",
       "evalue": "empty vocabulary; perhaps the documents only contain stop words",
       "output_type": "pyerr",
       "traceback": [
        "\u001b[0;31m---------------------------------------------------------------------------\u001b[0m\n\u001b[0;31mValueError\u001b[0m                                Traceback (most recent call last)",
        "\u001b[0;32m<ipython-input-17-0514e82256db>\u001b[0m in \u001b[0;36m<module>\u001b[0;34m()\u001b[0m\n\u001b[1;32m      1\u001b[0m \u001b[0;32mfrom\u001b[0m \u001b[0msklearn\u001b[0m\u001b[0;34m.\u001b[0m\u001b[0mfeature_extraction\u001b[0m\u001b[0;34m.\u001b[0m\u001b[0mtext\u001b[0m \u001b[0;32mimport\u001b[0m \u001b[0mTfidfVectorizer\u001b[0m\u001b[0;34m\u001b[0m\u001b[0m\n\u001b[1;32m      2\u001b[0m \u001b[0mvectorizer\u001b[0m \u001b[0;34m=\u001b[0m \u001b[0mTfidfVectorizer\u001b[0m\u001b[0;34m(\u001b[0m\u001b[0mmin_df\u001b[0m\u001b[0;34m=\u001b[0m\u001b[0;36m1\u001b[0m\u001b[0;34m)\u001b[0m\u001b[0;34m\u001b[0m\u001b[0m\n\u001b[0;32m----> 3\u001b[0;31m \u001b[0mvectorizer\u001b[0m\u001b[0;34m.\u001b[0m\u001b[0mfit_transform\u001b[0m\u001b[0;34m(\u001b[0m\u001b[0mlyric_str\u001b[0m\u001b[0;34m)\u001b[0m\u001b[0;34m\u001b[0m\u001b[0m\n\u001b[0m",
        "\u001b[0;32m/Library/Python/2.7/site-packages/sklearn/feature_extraction/text.pyc\u001b[0m in \u001b[0;36mfit_transform\u001b[0;34m(self, raw_documents, y)\u001b[0m\n\u001b[1;32m   1280\u001b[0m             \u001b[0mTf\u001b[0m\u001b[0;34m-\u001b[0m\u001b[0midf\u001b[0m\u001b[0;34m-\u001b[0m\u001b[0mweighted\u001b[0m \u001b[0mdocument\u001b[0m\u001b[0;34m-\u001b[0m\u001b[0mterm\u001b[0m \u001b[0mmatrix\u001b[0m\u001b[0;34m.\u001b[0m\u001b[0;34m\u001b[0m\u001b[0m\n\u001b[1;32m   1281\u001b[0m         \"\"\"\n\u001b[0;32m-> 1282\u001b[0;31m         \u001b[0mX\u001b[0m \u001b[0;34m=\u001b[0m \u001b[0msuper\u001b[0m\u001b[0;34m(\u001b[0m\u001b[0mTfidfVectorizer\u001b[0m\u001b[0;34m,\u001b[0m \u001b[0mself\u001b[0m\u001b[0;34m)\u001b[0m\u001b[0;34m.\u001b[0m\u001b[0mfit_transform\u001b[0m\u001b[0;34m(\u001b[0m\u001b[0mraw_documents\u001b[0m\u001b[0;34m)\u001b[0m\u001b[0;34m\u001b[0m\u001b[0m\n\u001b[0m\u001b[1;32m   1283\u001b[0m         \u001b[0mself\u001b[0m\u001b[0;34m.\u001b[0m\u001b[0m_tfidf\u001b[0m\u001b[0;34m.\u001b[0m\u001b[0mfit\u001b[0m\u001b[0;34m(\u001b[0m\u001b[0mX\u001b[0m\u001b[0;34m)\u001b[0m\u001b[0;34m\u001b[0m\u001b[0m\n\u001b[1;32m   1284\u001b[0m         \u001b[0;31m# X is already a transformed view of raw_documents so\u001b[0m\u001b[0;34m\u001b[0m\u001b[0;34m\u001b[0m\u001b[0m\n",
        "\u001b[0;32m/Library/Python/2.7/site-packages/sklearn/feature_extraction/text.pyc\u001b[0m in \u001b[0;36mfit_transform\u001b[0;34m(self, raw_documents, y)\u001b[0m\n\u001b[1;32m    815\u001b[0m \u001b[0;34m\u001b[0m\u001b[0m\n\u001b[1;32m    816\u001b[0m         vocabulary, X = self._count_vocab(raw_documents,\n\u001b[0;32m--> 817\u001b[0;31m                                           self.fixed_vocabulary_)\n\u001b[0m\u001b[1;32m    818\u001b[0m \u001b[0;34m\u001b[0m\u001b[0m\n\u001b[1;32m    819\u001b[0m         \u001b[0;32mif\u001b[0m \u001b[0mself\u001b[0m\u001b[0;34m.\u001b[0m\u001b[0mbinary\u001b[0m\u001b[0;34m:\u001b[0m\u001b[0;34m\u001b[0m\u001b[0m\n",
        "\u001b[0;32m/Library/Python/2.7/site-packages/sklearn/feature_extraction/text.pyc\u001b[0m in \u001b[0;36m_count_vocab\u001b[0;34m(self, raw_documents, fixed_vocab)\u001b[0m\n\u001b[1;32m    758\u001b[0m             \u001b[0mvocabulary\u001b[0m \u001b[0;34m=\u001b[0m \u001b[0mdict\u001b[0m\u001b[0;34m(\u001b[0m\u001b[0mvocabulary\u001b[0m\u001b[0;34m)\u001b[0m\u001b[0;34m\u001b[0m\u001b[0m\n\u001b[1;32m    759\u001b[0m             \u001b[0;32mif\u001b[0m \u001b[0;32mnot\u001b[0m \u001b[0mvocabulary\u001b[0m\u001b[0;34m:\u001b[0m\u001b[0;34m\u001b[0m\u001b[0m\n\u001b[0;32m--> 760\u001b[0;31m                 raise ValueError(\"empty vocabulary; perhaps the documents only\"\n\u001b[0m\u001b[1;32m    761\u001b[0m                                  \" contain stop words\")\n\u001b[1;32m    762\u001b[0m \u001b[0;34m\u001b[0m\u001b[0m\n",
        "\u001b[0;31mValueError\u001b[0m: empty vocabulary; perhaps the documents only contain stop words"
       ]
      }
     ],
     "prompt_number": 17
    },
    {
     "cell_type": "code",
     "collapsed": false,
     "input": [],
     "language": "python",
     "metadata": {},
     "outputs": []
    }
   ],
   "metadata": {}
  }
 ]
}