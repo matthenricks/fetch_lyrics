{
 "metadata": {
  "name": "",
  "signature": "sha256:0d5d7a82dd8aa7d141b181d7f3fafc160ff11a2b948ef14527528d5c1b6a47c0"
 },
 "nbformat": 3,
 "nbformat_minor": 0,
 "worksheets": [
  {
   "cells": [
    {
     "cell_type": "code",
     "collapsed": false,
     "input": [
      "import json\n",
      "import csv\n",
      "import pymongo\n",
      "import numpy\n",
      "import pandas as pd\n",
      "import datetime"
     ],
     "language": "python",
     "metadata": {},
     "outputs": [],
     "prompt_number": 1
    },
    {
     "cell_type": "code",
     "collapsed": false,
     "input": [
      "billboard = {} \n",
      "\n",
      "with open('BillboardMusic.csv', 'rb') as csvfile:\n",
      "    reader = csv.DictReader(csvfile)\n",
      "\n",
      "    for row in reader:\n",
      "        key = row['Artist'] + \"|\" + row['Track']\n",
      "        billboard[key] = {'artist': row['Artist'], 'track': row['Track'], 'year': row['Year'], 'peak': row['Date Peaked']}\n",
      "        # datetime.datetime.strptime(row['Date Peaked'], \"%m/%d/%y\")"
     ],
     "language": "python",
     "metadata": {},
     "outputs": [],
     "prompt_number": 2
    },
    {
     "cell_type": "code",
     "collapsed": false,
     "input": [
      "print len(billboard)"
     ],
     "language": "python",
     "metadata": {},
     "outputs": [
      {
       "output_type": "stream",
       "stream": "stdout",
       "text": [
        "39415\n"
       ]
      }
     ],
     "prompt_number": 3
    },
    {
     "cell_type": "code",
     "collapsed": false,
     "input": [
      "# Database: lyrics\n",
      "# Collection: songs\n",
      "# Collection: errors\n",
      "\n",
      "# mongoimport --db lyrics --type json --collection songs --headerline --file lyricScrape.json\n",
      "# mongoimport --db lyrics --type json --collection errors --headerline --file lyricErrors.json\n",
      "\n",
      "from pymongo import MongoClient \n",
      "client = MongoClient()\n",
      "db = client.lyric\n",
      "songs = db.songs.find({})\n",
      "wrong = 0\n",
      "\n",
      "print client\n",
      "print songs\n",
      "print songs.count()"
     ],
     "language": "python",
     "metadata": {},
     "outputs": [
      {
       "output_type": "stream",
       "stream": "stdout",
       "text": [
        "MongoClient('localhost', 27017)\n",
        "<pymongo.cursor.Cursor object at 0x111fa7a50>\n",
        "20567\n"
       ]
      }
     ],
     "prompt_number": 13
    },
    {
     "cell_type": "code",
     "collapsed": false,
     "input": [
      "for row in songs: \n",
      "    try: \n",
      "        tmp_year = billboard[(row['_id']['artist'] + \"|\" + row['_id']['track'])]['year']\n",
      "        tmp_peak = billboard[(row['_id']['artist'] + \"|\" + row['_id']['track'])]['peak']\n",
      "        db.songs.update({\"_id\":{\"artist\": row['_id']['artist'], \"track\": row['_id']['track']}}, {\"$set\": {\"year\":tmp_year, \"peak\":tmp_peak}})\n",
      "    except KeyError:\n",
      "        wrong += 1\n",
      "print wrong"
     ],
     "language": "python",
     "metadata": {},
     "outputs": [
      {
       "output_type": "stream",
       "stream": "stdout",
       "text": [
        "19\n"
       ]
      }
     ],
     "prompt_number": 14
    },
    {
     "cell_type": "code",
     "collapsed": false,
     "input": [
      "for x in db.songs.find({}):\n",
      "    print x\n",
      "    break"
     ],
     "language": "python",
     "metadata": {},
     "outputs": [
      {
       "output_type": "stream",
       "stream": "stdout",
       "text": [
        "{u'_id': {u'track': u'\"A\" - You\\'re Adorable (The Alphabet Song)', u'artist': u'Jo Stafford & Gordon MacRae'}, u'peak': u'4/30/49', u'lyrics': u\"When Johnny Jones was serenading Mary He sure could quote a lot of poetry But he'd much rather tell 'er what he learned in his speller When they both attended PS 33  (A) you're adorable (B) you're so beautiful (C) you're a cutie full of charms (D) you're a darling and (E) you're exciting (F) you're a feather in my arms  (G) you look good to me (H) you're so heavenly (I) you're the one I idolize (J) we're like Jack and Jill (K) you're so kissable (L) is the love light in your eyes  M, N, O, P (you could go on all day) Q ,R, S, T (alphabetically speaking, you're OK)  (U) made my life complete (V) means you're *awf'lly sweet* W, X, Y, Z Its fun to wander through The alphabet with you To tell (us what?) I mean (uh-huh?) To tell you what you mean to me (We love you alphabetically)\", u'year': u'1949'}\n"
       ]
      }
     ],
     "prompt_number": 15
    },
    {
     "cell_type": "code",
     "collapsed": false,
     "input": [
      "count = 0\n",
      "\n",
      "import pandas as pd\n",
      "import numpy as np\n",
      "import matplotlib.pyplot as plt\n",
      "\n",
      "%pylab inline"
     ],
     "language": "python",
     "metadata": {},
     "outputs": [
      {
       "output_type": "stream",
       "stream": "stdout",
       "text": [
        "Populating the interactive namespace from numpy and matplotlib\n"
       ]
      }
     ],
     "prompt_number": 25
    },
    {
     "cell_type": "code",
     "collapsed": false,
     "input": [
      "yearsongs = db.year_songs.find({})\n",
      "\n",
      "yearhash = {}\n",
      "for x in yearsongs:\n",
      "    if x['total'] > 150:\n",
      "        yearhash[x['_id']] = x['total']\n",
      "\n",
      "yearFrame = pd.DataFrame(yearhash.items(), columns=['Year', 'Count'])\n",
      "\n",
      "yearFrame.set_index('Year', inplace=True)\n",
      "yearFrame.sort_index(inplace=True)\n",
      "\n",
      "yearFrame.plot(kind='bar')"
     ],
     "language": "python",
     "metadata": {},
     "outputs": [
      {
       "metadata": {},
       "output_type": "pyout",
       "prompt_number": 28,
       "text": [
        "<matplotlib.axes.AxesSubplot at 0x112115690>"
       ]
      },
      {
       "metadata": {},
       "output_type": "display_data",
       "png": "[encoded data removed]",
       "text": [
        "<matplotlib.figure.Figure at 0x11211f0d0>"
       ]
      }
     ],
     "prompt_number": 28
    },
    {
     "cell_type": "code",
     "collapsed": false,
     "input": [],
     "language": "python",
     "metadata": {},
     "outputs": [],
     "prompt_number": 87
    },
    {
     "cell_type": "code",
     "collapsed": false,
     "input": [],
     "language": "python",
     "metadata": {},
     "outputs": []
    }
   ],
   "metadata": {}
  }
 ]
}