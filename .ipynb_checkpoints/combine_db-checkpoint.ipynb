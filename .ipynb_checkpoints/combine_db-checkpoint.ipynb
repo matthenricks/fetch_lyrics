{
 "metadata": {
  "name": "",
  "signature": "sha256:2a70acc7949de0690071cc3d40f70b708a96695206d56d037f74d3667e47e096"
 },
 "nbformat": 3,
 "nbformat_minor": 0,
 "worksheets": [
  {
   "cells": [
    {
     "cell_type": "code",
     "collapsed": false,
     "input": [
      "import json\n",
      "import csv\n",
      "import pymongo\n",
      "import numpy\n",
      "import pandas as pd\n",
      "import datetime"
     ],
     "language": "python",
     "metadata": {},
     "outputs": [],
     "prompt_number": 15
    },
    {
     "cell_type": "code",
     "collapsed": false,
     "input": [
      "billboard = {} \n",
      "\n",
      "with open('BillboardMusic.csv', 'rb') as csvfile:\n",
      "    reader = csv.DictReader(csvfile)\n",
      "\n",
      "    for row in reader:\n",
      "        key = row['Artist'] + \"|\" + row['Track']\n",
      "        billboard[key] = {'artist': row['Artist'], 'track': row['Track'], 'year': row['Year'], 'peak': row['Date Peaked']}\n",
      "        # datetime.datetime.strptime(row['Date Peaked'], \"%m/%d/%y\")"
     ],
     "language": "python",
     "metadata": {},
     "outputs": [],
     "prompt_number": 32
    },
    {
     "cell_type": "code",
     "collapsed": false,
     "input": [
      "# Database: lyrics\n",
      "# Collection: songs\n",
      "# Collection: errors\n",
      "\n",
      "# mongoimport --db lyrics --type json --collection songs --headerline --file lyricScrape.json\n",
      "# mongoimport --db lyrics --type json --collection errors --headerline --file lyricErrors.json\n",
      "\n",
      "from pymongo import MongoClient \n",
      "client = MongoClient()\n",
      "db = client.lyrics\n",
      "songs = db.songs.find()\n",
      "wrong = 0\n",
      "\n",
      "for row in songs: \n",
      "    try: \n",
      "        tmp_year = billboard[(row['artist'] + \"|\" + row['track'])]['year']\n",
      "        tmp_peak = billboard[(row['artist'] + \"|\" + row['track'])]['peak']\n",
      "        db.songs.update({\"artist\": row['artist'], \"track\": row['track']}, {\"$set\": {\"year\":tmp_year, \"peak\":tmp_peak}})\n",
      "    except KeyError:\n",
      "        wrong += 1\n",
      "    #db.songs.find({\"artist\": \"Tracy Byrd\"})\n"
     ],
     "language": "python",
     "metadata": {},
     "outputs": [],
     "prompt_number": 55
    },
    {
     "cell_type": "code",
     "collapsed": false,
     "input": [],
     "language": "python",
     "metadata": {},
     "outputs": []
    }
   ],
   "metadata": {}
  }
 ]
}