{
 "metadata": {
  "name": "",
  "signature": "sha256:236e6be19569dcad5730fa46f97905e5fc5d28a231be866b997e9ebfd62718d3"
 },
 "nbformat": 3,
 "nbformat_minor": 0,
 "worksheets": []
}