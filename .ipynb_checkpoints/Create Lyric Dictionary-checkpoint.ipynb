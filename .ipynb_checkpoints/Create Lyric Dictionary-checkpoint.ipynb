{
 "metadata": {
  "name": "",
  "signature": "sha256:b26c6b0a5a86c72a34ad6106085b7acf223731f141e96f64b503c0afb92005f7"
 },
 "nbformat": 3,
 "nbformat_minor": 0,
 "worksheets": [
  {
   "cells": [
    {
     "cell_type": "code",
     "collapsed": false,
     "input": [
      "import csv\n",
      "from unidecode import unidecode\n",
      "import re\n",
      "\n",
      "from gensim import corpora\n",
      "from nltk.stem.porter import *\n",
      "from nltk.corpus import stopwords\n",
      "from nltk.tokenize import WordPunctTokenizer"
     ],
     "language": "python",
     "metadata": {},
     "outputs": [],
     "prompt_number": 22
    },
    {
     "cell_type": "markdown",
     "metadata": {},
     "source": [
      "Function to clean the text and remove stopwords"
     ]
    },
    {
     "cell_type": "code",
     "collapsed": false,
     "input": [
      "# Set up the infrastructure to clean the text\n",
      "stopset = set(stopwords.words('english'))\n",
      "stemmer = PorterStemmer()\n",
      "def cleanText(column):\n",
      "    tokens = WordPunctTokenizer().tokenize(column)\n",
      "    clean = [token.lower() for token in tokens if token.lower() not in stopset and len(token) > 2]\n",
      "    final = [stemmer.stem(word) for word in clean]\n",
      "    return final"
     ],
     "language": "python",
     "metadata": {},
     "outputs": [],
     "prompt_number": 23
    },
    {
     "cell_type": "markdown",
     "metadata": {},
     "source": [
      "Set up the stream ability for Mongo :D"
     ]
    },
    {
     "cell_type": "code",
     "collapsed": false,
     "input": [
      "import json\n",
      "import csv\n",
      "import datetime\n",
      "import string \n",
      "import re\n",
      "import pymongo"
     ],
     "language": "python",
     "metadata": {},
     "outputs": [],
     "prompt_number": 24
    },
    {
     "cell_type": "code",
     "collapsed": false,
     "input": [
      "# Database: lyrics\n",
      "# Collection: songs\n",
      "# Collection: errors\n",
      "from pymongo import MongoClient \n",
      "client = MongoClient('localhost', 27017)\n",
      "db = client.lyric\n",
      "top_songs = db.top_songs\n",
      "\n",
      "print top_songs.count()"
     ],
     "language": "python",
     "metadata": {},
     "outputs": [
      {
       "output_type": "stream",
       "stream": "stdout",
       "text": [
        "20566\n"
       ]
      }
     ],
     "prompt_number": 26
    },
    {
     "cell_type": "code",
     "collapsed": false,
     "input": [
      "# Switch to our working directory and set up our input and out put paths,\n",
      "# as well as our settings and training file locations\n",
      "\n",
      "# Set up the dictionary\n",
      "dictionary = corpora.Dictionary()\n",
      "\n",
      "selection = top_songs.find({})\n",
      "\n",
      "y = 0\n",
      "i = 0\n",
      "\n",
      "for row in selection:\n",
      "    column = unidecode(row['lyrics'])\n",
      "    column = re.sub('  +', ' ', column)\n",
      "    column = re.sub('\\n', ' ', column)\n",
      "    column = column.strip().strip('\"').strip(\"'\").lower().strip()\n",
      "    if column != \"\":\n",
      "        myString = \"\"\n",
      "        for x in cleanText(column):\n",
      "            myString += x + ' '\n",
      "        dictionary.add_documents([myString.split()])\n",
      "\n",
      "    #i += 1\n",
      "    #if i > 100:\n",
      "    #    print y\n",
      "    #    y += 1\n",
      "    #    i = 0"
     ],
     "language": "python",
     "metadata": {},
     "outputs": [],
     "prompt_number": 28
    },
    {
     "cell_type": "code",
     "collapsed": false,
     "input": [
      "print dictionary.num_docs\n",
      "print dictionary.num_nnz\n",
      "print dictionary.num_pos\n",
      "print dictionary"
     ],
     "language": "python",
     "metadata": {},
     "outputs": [
      {
       "output_type": "stream",
       "stream": "stdout",
       "text": [
        "20566\n",
        "1264652\n",
        "2539667\n",
        "Dictionary(32271 unique tokens: [u'fawn', u'circuitri', u'woodi', u'gag', u'cherrio']...)\n"
       ]
      }
     ],
     "prompt_number": 29
    },
    {
     "cell_type": "code",
     "collapsed": false,
     "input": [
      "dictionary.save('main_dictionary.mm')"
     ],
     "language": "python",
     "metadata": {},
     "outputs": [],
     "prompt_number": 30
    },
    {
     "cell_type": "markdown",
     "metadata": {},
     "source": [
      "Create a corpus for the listing of songs to compress it for the future"
     ]
    },
    {
     "cell_type": "code",
     "collapsed": false,
     "input": [
      "dict2 = corpora.Dictionary.load('main_dictionary.mm')"
     ],
     "language": "python",
     "metadata": {},
     "outputs": [],
     "prompt_number": 31
    },
    {
     "cell_type": "code",
     "collapsed": false,
     "input": [
      "dict2.filter_extremes(no_above=0.05)\n",
      "dict2.filter_extremes(no_below=50)\n",
      "dict2.compactify()\n",
      "print dict2.num_docs\n",
      "print dict2.num_nnz\n",
      "print dict2"
     ],
     "language": "python",
     "metadata": {},
     "outputs": [
      {
       "output_type": "stream",
       "stream": "stdout",
       "text": [
        "20566\n",
        "1264652\n",
        "Dictionary(2249 unique tokens: [u'pardon', u'yellow', u'four', u'sleev', u'upsid']...)\n"
       ]
      }
     ],
     "prompt_number": 32
    },
    {
     "cell_type": "code",
     "collapsed": false,
     "input": [
      "dict2.save('reduced_dictionary.mm')"
     ],
     "language": "python",
     "metadata": {},
     "outputs": [],
     "prompt_number": 33
    },
    {
     "cell_type": "code",
     "collapsed": false,
     "input": [
      "print dict2"
     ],
     "language": "python",
     "metadata": {},
     "outputs": [
      {
       "output_type": "stream",
       "stream": "stdout",
       "text": [
        "Dictionary(2249 unique tokens: [u'pardon', u'yellow', u'four', u'sleev', u'upsid']...)\n"
       ]
      }
     ],
     "prompt_number": 34
    },
    {
     "cell_type": "code",
     "collapsed": false,
     "input": [],
     "language": "python",
     "metadata": {},
     "outputs": [],
     "prompt_number": 34
    },
    {
     "cell_type": "code",
     "collapsed": false,
     "input": [],
     "language": "python",
     "metadata": {},
     "outputs": []
    }
   ],
   "metadata": {}
  }
 ]
}